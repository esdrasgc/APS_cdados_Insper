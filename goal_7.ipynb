{
 "cells": [
  {
   "cell_type": "markdown",
   "metadata": {},
   "source": [
    "# Parte 1: Exploratória\n",
    "### Goal 7 - Garantir o acesso a energia acessível, confiável, sustentável e moderna para todos\n",
    "O objetivo de desenvolvimento sustentável escolhido foi o 7, que diz garantir o acesso a energia acessível, confiável, sustentável e moderna para todos. A eletricidade é algo básico para inserção no mundo moderno e tão essencial no dia a dia, incomparável com qualquer outra invenção, considerando até que a revolução tecnológica só foi possível por conta de sua da presença. \n",
    "Algo indispensável em nossas vidas, estando presente desde a iluminação, aquecimento, fins médicos, uso de eletrodomésticos, computadores, até sistemas de transporte público e muitos outros.\n",
    "O número de pessoas sem acesso a eletricidade foi um fator que chamou atenção, o que levou ao indicador escolhido, o acesso a energia elétrica. O objetivo é diretamente relacionado ao indicador uma vez que o próprio objetivo é garantir o acesso de todos a energia confiável, sustentável e moderna.\n",
    "A seguir, segue a análise realizada, utilizando os dados do World Bank (https://databank.worldbank.org/source/sustainable-energy-for-all#) com base em 3 países, a saber, Brasil, Alemanha e Moçambique."
   ]
  },
  {
   "cell_type": "code",
<<<<<<< HEAD
   "execution_count": 19,
=======
   "execution_count": 154,
>>>>>>> 746e6fc40fa5e5f4a21037e6150b8124d6d4dec5
   "metadata": {},
   "outputs": [
    {
     "data": {
      "text/html": [
       "<div>\n",
       "<style scoped>\n",
       "    .dataframe tbody tr th:only-of-type {\n",
       "        vertical-align: middle;\n",
       "    }\n",
       "\n",
       "    .dataframe tbody tr th {\n",
       "        vertical-align: top;\n",
       "    }\n",
       "\n",
       "    .dataframe thead th {\n",
       "        text-align: right;\n",
       "    }\n",
       "</style>\n",
       "<table border=\"1\" class=\"dataframe\">\n",
       "  <thead>\n",
       "    <tr style=\"text-align: right;\">\n",
       "      <th></th>\n",
       "      <th>Country Name</th>\n",
       "      <th>Country Code</th>\n",
       "      <th>Time</th>\n",
       "      <th>Time Code</th>\n",
       "      <th>Access to Clean Fuels and Technologies for cooking (% of total population) [2.1_ACCESS.CFT.TOT]</th>\n",
       "      <th>Access to electricity (% of rural population with access) [1.2_ACCESS.ELECTRICITY.RURAL]</th>\n",
       "      <th>Access to electricity (% of total population) [1.1_ACCESS.ELECTRICITY.TOT]</th>\n",
       "      <th>Access to electricity (% of urban population with access) [1.3_ACCESS.ELECTRICITY.URBAN]</th>\n",
       "      <th>Energy intensity level of primary energy (MJ/2011 USD PPP) [6.1_PRIMARY.ENERGY.INTENSITY]</th>\n",
       "      <th>Renewable electricity output (GWh) [4.1.2_REN.ELECTRICITY.OUTPUT]</th>\n",
       "      <th>Renewable electricity share of total electricity output (%) [4.1_SHARE.RE.IN.ELECTRICITY]</th>\n",
       "      <th>Renewable energy consumption (TJ) [3.1_RE.CONSUMPTION]</th>\n",
       "      <th>Renewable energy share of TFEC (%) [2.1_SHARE.TOTAL.RE.IN.TFEC]</th>\n",
       "      <th>Total electricity output (GWh) [4.1.1_TOTAL.ELECTRICITY.OUTPUT]</th>\n",
       "      <th>Total final energy consumption (TFEC) (TJ) [1.1_TOTAL.FINAL.ENERGY.CONSUM]</th>\n",
       "    </tr>\n",
       "  </thead>\n",
       "  <tbody>\n",
       "    <tr>\n",
       "      <th>0</th>\n",
       "      <td>Brazil</td>\n",
       "      <td>BRA</td>\n",
       "      <td>1997.0</td>\n",
       "      <td>YR1997</td>\n",
       "      <td>..</td>\n",
       "      <td>68.817801</td>\n",
       "      <td>93.354139</td>\n",
       "      <td>99.056926</td>\n",
       "      <td>3.94084953998611</td>\n",
       "      <td>286355</td>\n",
       "      <td>92.9778363670604</td>\n",
       "      <td>2405843</td>\n",
       "      <td>43.7251083730704</td>\n",
       "      <td>307982</td>\n",
       "      <td>5502200.199192</td>\n",
       "    </tr>\n",
       "    <tr>\n",
       "      <th>1</th>\n",
       "      <td>Brazil</td>\n",
       "      <td>BRA</td>\n",
       "      <td>1998.0</td>\n",
       "      <td>YR1998</td>\n",
       "      <td>..</td>\n",
       "      <td>72.778247</td>\n",
       "      <td>94.193812</td>\n",
       "      <td>99.137016</td>\n",
       "      <td>4.0217825990965</td>\n",
       "      <td>298979</td>\n",
       "      <td>92.9233437348484</td>\n",
       "      <td>2491751</td>\n",
       "      <td>43.8615767414815</td>\n",
       "      <td>321748</td>\n",
       "      <td>5680942.604244</td>\n",
       "    </tr>\n",
       "    <tr>\n",
       "      <th>2</th>\n",
       "      <td>Brazil</td>\n",
       "      <td>BRA</td>\n",
       "      <td>1999.0</td>\n",
       "      <td>YR1999</td>\n",
       "      <td>..</td>\n",
       "      <td>75.436121</td>\n",
       "      <td>94.762960</td>\n",
       "      <td>99.186252</td>\n",
       "      <td>4.09373895058941</td>\n",
       "      <td>301368</td>\n",
       "      <td>90.0369268275195</td>\n",
       "      <td>2559594</td>\n",
       "      <td>44.0972758704006</td>\n",
       "      <td>334716</td>\n",
       "      <td>5804426.576196</td>\n",
       "    </tr>\n",
       "    <tr>\n",
       "      <th>3</th>\n",
       "      <td>Brazil</td>\n",
       "      <td>BRA</td>\n",
       "      <td>2000.0</td>\n",
       "      <td>YR2000</td>\n",
       "      <td>86.91</td>\n",
       "      <td>74.9041610654805</td>\n",
       "      <td>94.466568</td>\n",
       "      <td>98.998169</td>\n",
       "      <td>3.94784572124322</td>\n",
       "      <td>312249</td>\n",
       "      <td>89.4927058553782</td>\n",
       "      <td>2504059</td>\n",
       "      <td>42.7987739937361</td>\n",
       "      <td>348910</td>\n",
       "      <td>5850772.735608</td>\n",
       "    </tr>\n",
       "    <tr>\n",
       "      <th>4</th>\n",
       "      <td>Brazil</td>\n",
       "      <td>BRA</td>\n",
       "      <td>2001.0</td>\n",
       "      <td>YR2001</td>\n",
       "      <td>87.89</td>\n",
       "      <td>77.62953</td>\n",
       "      <td>96.016528</td>\n",
       "      <td>99.215119</td>\n",
       "      <td>3.9512174689924</td>\n",
       "      <td>276891</td>\n",
       "      <td>84.2874450546105</td>\n",
       "      <td>2428426</td>\n",
       "      <td>41.4778788144924</td>\n",
       "      <td>328508</td>\n",
       "      <td>5854749.73506</td>\n",
       "    </tr>\n",
       "  </tbody>\n",
       "</table>\n",
       "</div>"
      ],
      "text/plain": [
       "  Country Name Country Code    Time Time Code  \\\n",
       "0       Brazil          BRA  1997.0    YR1997   \n",
       "1       Brazil          BRA  1998.0    YR1998   \n",
       "2       Brazil          BRA  1999.0    YR1999   \n",
       "3       Brazil          BRA  2000.0    YR2000   \n",
       "4       Brazil          BRA  2001.0    YR2001   \n",
       "\n",
       "  Access to Clean Fuels and Technologies for cooking (% of total population) [2.1_ACCESS.CFT.TOT]  \\\n",
       "0                                                 ..                                                \n",
       "1                                                 ..                                                \n",
       "2                                                 ..                                                \n",
       "3                                              86.91                                                \n",
       "4                                              87.89                                                \n",
       "\n",
       "  Access to electricity (% of rural population with access) [1.2_ACCESS.ELECTRICITY.RURAL]  \\\n",
       "0                                          68.817801                                         \n",
       "1                                          72.778247                                         \n",
       "2                                          75.436121                                         \n",
       "3                                   74.9041610654805                                         \n",
       "4                                           77.62953                                         \n",
       "\n",
       "   Access to electricity (% of total population) [1.1_ACCESS.ELECTRICITY.TOT]  \\\n",
       "0                                          93.354139                            \n",
       "1                                          94.193812                            \n",
       "2                                          94.762960                            \n",
       "3                                          94.466568                            \n",
       "4                                          96.016528                            \n",
       "\n",
       "   Access to electricity (% of urban population with access) [1.3_ACCESS.ELECTRICITY.URBAN]  \\\n",
       "0                                          99.056926                                          \n",
       "1                                          99.137016                                          \n",
       "2                                          99.186252                                          \n",
       "3                                          98.998169                                          \n",
       "4                                          99.215119                                          \n",
       "\n",
       "  Energy intensity level of primary energy (MJ/2011 USD PPP) [6.1_PRIMARY.ENERGY.INTENSITY]  \\\n",
       "0                                   3.94084953998611                                          \n",
       "1                                    4.0217825990965                                          \n",
       "2                                   4.09373895058941                                          \n",
       "3                                   3.94784572124322                                          \n",
       "4                                    3.9512174689924                                          \n",
       "\n",
       "  Renewable electricity output (GWh) [4.1.2_REN.ELECTRICITY.OUTPUT]  \\\n",
       "0                                             286355                  \n",
       "1                                             298979                  \n",
       "2                                             301368                  \n",
       "3                                             312249                  \n",
       "4                                             276891                  \n",
       "\n",
       "  Renewable electricity share of total electricity output (%) [4.1_SHARE.RE.IN.ELECTRICITY]  \\\n",
       "0                                   92.9778363670604                                          \n",
       "1                                   92.9233437348484                                          \n",
       "2                                   90.0369268275195                                          \n",
       "3                                   89.4927058553782                                          \n",
       "4                                   84.2874450546105                                          \n",
       "\n",
       "  Renewable energy consumption (TJ) [3.1_RE.CONSUMPTION]  \\\n",
       "0                                            2405843       \n",
       "1                                            2491751       \n",
       "2                                            2559594       \n",
       "3                                            2504059       \n",
       "4                                            2428426       \n",
       "\n",
       "  Renewable energy share of TFEC (%) [2.1_SHARE.TOTAL.RE.IN.TFEC]  \\\n",
       "0                                   43.7251083730704                \n",
       "1                                   43.8615767414815                \n",
       "2                                   44.0972758704006                \n",
       "3                                   42.7987739937361                \n",
       "4                                   41.4778788144924                \n",
       "\n",
       "  Total electricity output (GWh) [4.1.1_TOTAL.ELECTRICITY.OUTPUT]  \\\n",
       "0                                             307982                \n",
       "1                                             321748                \n",
       "2                                             334716                \n",
       "3                                             348910                \n",
       "4                                             328508                \n",
       "\n",
       "  Total final energy consumption (TFEC) (TJ) [1.1_TOTAL.FINAL.ENERGY.CONSUM]  \n",
       "0                                     5502200.199192                          \n",
       "1                                     5680942.604244                          \n",
       "2                                     5804426.576196                          \n",
       "3                                     5850772.735608                          \n",
       "4                                      5854749.73506                          "
      ]
     },
<<<<<<< HEAD
     "execution_count": 19,
=======
     "execution_count": 154,
>>>>>>> 746e6fc40fa5e5f4a21037e6150b8124d6d4dec5
     "metadata": {},
     "output_type": "execute_result"
    }
   ],
   "source": [
    "import pandas as pd\n",
    "\n",
    "# df = pd.read_csv('dados/SDG_csv/'+ 'SDGData' +'.CSV', sep=',', encoding='UTF-8', decimal='.', skiprows=0)\n",
    "df = pd.read_csv('dados/Data_Extract_From_Sustainable_Energy_for_All/'+ '6d90deca-5693-43c3-8e1f-664a61b7c0db_Data' +'.CSV', sep=',', encoding='UTF-8', decimal='.', skiprows=0)\n",
    "df.head()"
   ]
  },
  {
   "cell_type": "code",
<<<<<<< HEAD
   "execution_count": 20,
=======
   "execution_count": 155,
>>>>>>> 746e6fc40fa5e5f4a21037e6150b8124d6d4dec5
   "metadata": {},
   "outputs": [
    {
     "data": {
      "text/html": [
       "<div>\n",
       "<style scoped>\n",
       "    .dataframe tbody tr th:only-of-type {\n",
       "        vertical-align: middle;\n",
       "    }\n",
       "\n",
       "    .dataframe tbody tr th {\n",
       "        vertical-align: top;\n",
       "    }\n",
       "\n",
       "    .dataframe thead th {\n",
       "        text-align: right;\n",
       "    }\n",
       "</style>\n",
       "<table border=\"1\" class=\"dataframe\">\n",
       "  <thead>\n",
       "    <tr style=\"text-align: right;\">\n",
       "      <th></th>\n",
       "      <th>Nome do país</th>\n",
       "      <th>Ano</th>\n",
       "      <th>Acesso à eletricidade (%)</th>\n",
       "    </tr>\n",
       "  </thead>\n",
       "  <tbody>\n",
       "    <tr>\n",
       "      <th>0</th>\n",
       "      <td>Brazil</td>\n",
       "      <td>1997.0</td>\n",
       "      <td>93.354139</td>\n",
       "    </tr>\n",
       "    <tr>\n",
       "      <th>1</th>\n",
       "      <td>Brazil</td>\n",
       "      <td>1998.0</td>\n",
       "      <td>94.193812</td>\n",
       "    </tr>\n",
       "    <tr>\n",
       "      <th>2</th>\n",
       "      <td>Brazil</td>\n",
       "      <td>1999.0</td>\n",
       "      <td>94.762960</td>\n",
       "    </tr>\n",
       "    <tr>\n",
       "      <th>3</th>\n",
       "      <td>Brazil</td>\n",
       "      <td>2000.0</td>\n",
       "      <td>94.466568</td>\n",
       "    </tr>\n",
       "    <tr>\n",
       "      <th>4</th>\n",
       "      <td>Brazil</td>\n",
       "      <td>2001.0</td>\n",
       "      <td>96.016528</td>\n",
       "    </tr>\n",
       "  </tbody>\n",
       "</table>\n",
       "</div>"
      ],
      "text/plain": [
       "  Nome do país     Ano  Acesso à eletricidade (%)\n",
       "0       Brazil  1997.0                  93.354139\n",
       "1       Brazil  1998.0                  94.193812\n",
       "2       Brazil  1999.0                  94.762960\n",
       "3       Brazil  2000.0                  94.466568\n",
       "4       Brazil  2001.0                  96.016528"
      ]
     },
<<<<<<< HEAD
     "execution_count": 20,
=======
     "execution_count": 155,
>>>>>>> 746e6fc40fa5e5f4a21037e6150b8124d6d4dec5
     "metadata": {},
     "output_type": "execute_result"
    }
   ],
   "source": [
    "df = df[['Country Name', 'Time', 'Access to electricity (% of total population) [1.1_ACCESS.ELECTRICITY.TOT]']]\n",
    "df = df.rename({'Country Name' : 'Nome do país', 'Time' : 'Ano', 'Access to electricity (% of total population) [1.1_ACCESS.ELECTRICITY.TOT]' : 'Acesso à eletricidade (%)'}, axis='columns')\n",
    "df.head()"
   ]
  },
  {
   "cell_type": "code",
<<<<<<< HEAD
   "execution_count": 21,
=======
   "execution_count": 156,
>>>>>>> 746e6fc40fa5e5f4a21037e6150b8124d6d4dec5
   "metadata": {},
   "outputs": [],
   "source": [
    "df_bra = df.iloc[range(0,20)]\n",
    "df_ger = df.iloc[range(20,40)]\n",
    "df_moz = df.iloc[range(40,60)]\n"
   ]
  },
  {
   "cell_type": "code",
<<<<<<< HEAD
   "execution_count": 22,
=======
   "execution_count": 157,
>>>>>>> 746e6fc40fa5e5f4a21037e6150b8124d6d4dec5
   "metadata": {},
   "outputs": [],
   "source": [
    "df_bra = df_bra[['Ano', 'Acesso à eletricidade (%)']]\n",
    "df_bra = df_bra.rename({'Acesso à eletricidade (%)' : 'Acesso à eletricidade no Brasil (%)'}, axis='columns')\n",
    "\n",
    "df_ger = df_ger[['Ano', 'Acesso à eletricidade (%)']]\n",
    "df_ger = df_ger.rename({'Acesso à eletricidade (%)' : 'Acesso à eletricidade na Alemanha (%)'}, axis='columns')\n",
    "\n",
    "df_moz = df_moz[['Ano', 'Acesso à eletricidade (%)']]\n",
    "df_moz = df_moz.rename({'Acesso à eletricidade (%)' : 'Acesso à eletricidade em Moçambique (%)'}, axis='columns')"
   ]
  },
  {
   "cell_type": "code",
<<<<<<< HEAD
   "execution_count": 23,
=======
   "execution_count": 158,
>>>>>>> 746e6fc40fa5e5f4a21037e6150b8124d6d4dec5
   "metadata": {},
   "outputs": [
    {
     "data": {
      "text/html": [
       "<div>\n",
       "<style scoped>\n",
       "    .dataframe tbody tr th:only-of-type {\n",
       "        vertical-align: middle;\n",
       "    }\n",
       "\n",
       "    .dataframe tbody tr th {\n",
       "        vertical-align: top;\n",
       "    }\n",
       "\n",
       "    .dataframe thead th {\n",
       "        text-align: right;\n",
       "    }\n",
       "</style>\n",
       "<table border=\"1\" class=\"dataframe\">\n",
       "  <thead>\n",
       "    <tr style=\"text-align: right;\">\n",
       "      <th></th>\n",
       "      <th>Ano</th>\n",
       "      <th>Acesso à eletricidade no Brasil (%)</th>\n",
       "      <th>Acesso à eletricidade na Alemanha (%)</th>\n",
       "      <th>Acesso à eletricidade em Moçambique (%)</th>\n",
       "    </tr>\n",
       "  </thead>\n",
       "  <tbody>\n",
       "    <tr>\n",
       "      <th>0</th>\n",
       "      <td>1997.0</td>\n",
       "      <td>93.354139</td>\n",
       "      <td>100.0</td>\n",
       "      <td>6.600000</td>\n",
       "    </tr>\n",
       "    <tr>\n",
       "      <th>1</th>\n",
       "      <td>1998.0</td>\n",
       "      <td>94.193812</td>\n",
       "      <td>100.0</td>\n",
       "      <td>4.548946</td>\n",
       "    </tr>\n",
       "    <tr>\n",
       "      <th>2</th>\n",
       "      <td>1999.0</td>\n",
       "      <td>94.762960</td>\n",
       "      <td>100.0</td>\n",
       "      <td>5.633479</td>\n",
       "    </tr>\n",
       "    <tr>\n",
       "      <th>3</th>\n",
       "      <td>2000.0</td>\n",
       "      <td>94.466568</td>\n",
       "      <td>100.0</td>\n",
       "      <td>6.695059</td>\n",
       "    </tr>\n",
       "    <tr>\n",
       "      <th>4</th>\n",
       "      <td>2001.0</td>\n",
       "      <td>96.016528</td>\n",
       "      <td>100.0</td>\n",
       "      <td>5.700000</td>\n",
       "    </tr>\n",
       "  </tbody>\n",
       "</table>\n",
       "</div>"
      ],
      "text/plain": [
       "      Ano  Acesso à eletricidade no Brasil (%)  \\\n",
       "0  1997.0                            93.354139   \n",
       "1  1998.0                            94.193812   \n",
       "2  1999.0                            94.762960   \n",
       "3  2000.0                            94.466568   \n",
       "4  2001.0                            96.016528   \n",
       "\n",
       "   Acesso à eletricidade na Alemanha (%)  \\\n",
       "0                                  100.0   \n",
       "1                                  100.0   \n",
       "2                                  100.0   \n",
       "3                                  100.0   \n",
       "4                                  100.0   \n",
       "\n",
       "   Acesso à eletricidade em Moçambique (%)  \n",
       "0                                 6.600000  \n",
       "1                                 4.548946  \n",
       "2                                 5.633479  \n",
       "3                                 6.695059  \n",
       "4                                 5.700000  "
      ]
     },
<<<<<<< HEAD
     "execution_count": 23,
=======
     "execution_count": 158,
>>>>>>> 746e6fc40fa5e5f4a21037e6150b8124d6d4dec5
     "metadata": {},
     "output_type": "execute_result"
    }
   ],
   "source": [
    "## https://stackoverflow.com/questions/23668427/pandas-three-way-joining-multiple-dataframes-on-columns\n",
    "df = df_bra.merge(df_ger,on='Ano').merge(df_moz,on='Ano')\n",
    "df.head()"
   ]
  },
  {
   "cell_type": "code",
<<<<<<< HEAD
   "execution_count": 36,
=======
   "execution_count": 159,
>>>>>>> 746e6fc40fa5e5f4a21037e6150b8124d6d4dec5
   "metadata": {},
   "outputs": [
    {
     "data": {
      "image/png": "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",
      "text/plain": [
       "<Figure size 1600x700 with 1 Axes>"
      ]
     },
     "metadata": {},
     "output_type": "display_data"
    }
   ],
   "source": [
    "import matplotlib.pyplot as plt\n",
    "# import seaborn as sns\n",
    "\n",
    "plt.style.use('default')\n",
    "plt.figure(figsize=(16,7))\n",
    "\n",
    "plt.plot(df['Ano'], df['Acesso à eletricidade no Brasil (%)'])\n",
    "plt.plot(df['Ano'], df['Acesso à eletricidade na Alemanha (%)'])\n",
    "plt.plot(df['Ano'] ,df['Acesso à eletricidade em Moçambique (%)'])\n",
    "\n",
    "plt.xticks(df['Ano'])\n",
    "plt.legend(['Brasil', 'Alemanha', 'Moçambique'])\n",
    "plt.xlabel('Ano')\n",
    "plt.ylabel('% total da população')\n",
    "plt.title('Acesso à eletricidade')\n",
    "plt.show()"
   ]
  },
  {
   "cell_type": "code",
   "execution_count": 160,
   "metadata": {},
   "outputs": [
    {
     "data": {
      "text/html": [
       "<div>\n",
       "<style scoped>\n",
       "    .dataframe tbody tr th:only-of-type {\n",
       "        vertical-align: middle;\n",
       "    }\n",
       "\n",
       "    .dataframe tbody tr th {\n",
       "        vertical-align: top;\n",
       "    }\n",
       "\n",
       "    .dataframe thead th {\n",
       "        text-align: right;\n",
       "    }\n",
       "</style>\n",
       "<table border=\"1\" class=\"dataframe\">\n",
       "  <thead>\n",
       "    <tr style=\"text-align: right;\">\n",
       "      <th></th>\n",
       "      <th>Acesso à eletricidade no Brasil (%)</th>\n",
       "      <th>Acesso à eletricidade na Alemanha (%)</th>\n",
       "      <th>Acesso à eletricidade em Moçambique (%)</th>\n",
       "    </tr>\n",
       "    <tr>\n",
       "      <th>Ano</th>\n",
       "      <th></th>\n",
       "      <th></th>\n",
       "      <th></th>\n",
       "    </tr>\n",
       "  </thead>\n",
       "  <tbody>\n",
       "    <tr>\n",
       "      <th>1997.0</th>\n",
       "      <td>93.354139</td>\n",
       "      <td>100.0</td>\n",
       "      <td>6.600000</td>\n",
       "    </tr>\n",
       "    <tr>\n",
       "      <th>1998.0</th>\n",
       "      <td>94.193812</td>\n",
       "      <td>100.0</td>\n",
       "      <td>4.548946</td>\n",
       "    </tr>\n",
       "    <tr>\n",
       "      <th>1999.0</th>\n",
       "      <td>94.762960</td>\n",
       "      <td>100.0</td>\n",
       "      <td>5.633479</td>\n",
       "    </tr>\n",
       "    <tr>\n",
       "      <th>2000.0</th>\n",
       "      <td>94.466568</td>\n",
       "      <td>100.0</td>\n",
       "      <td>6.695059</td>\n",
       "    </tr>\n",
       "    <tr>\n",
       "      <th>2001.0</th>\n",
       "      <td>96.016528</td>\n",
       "      <td>100.0</td>\n",
       "      <td>5.700000</td>\n",
       "    </tr>\n",
       "  </tbody>\n",
       "</table>\n",
       "</div>"
      ],
      "text/plain": [
       "        Acesso à eletricidade no Brasil (%)  \\\n",
       "Ano                                           \n",
       "1997.0                            93.354139   \n",
       "1998.0                            94.193812   \n",
       "1999.0                            94.762960   \n",
       "2000.0                            94.466568   \n",
       "2001.0                            96.016528   \n",
       "\n",
       "        Acesso à eletricidade na Alemanha (%)  \\\n",
       "Ano                                             \n",
       "1997.0                                  100.0   \n",
       "1998.0                                  100.0   \n",
       "1999.0                                  100.0   \n",
       "2000.0                                  100.0   \n",
       "2001.0                                  100.0   \n",
       "\n",
       "        Acesso à eletricidade em Moçambique (%)  \n",
       "Ano                                              \n",
       "1997.0                                 6.600000  \n",
       "1998.0                                 4.548946  \n",
       "1999.0                                 5.633479  \n",
       "2000.0                                 6.695059  \n",
       "2001.0                                 5.700000  "
      ]
     },
     "execution_count": 160,
     "metadata": {},
     "output_type": "execute_result"
    }
   ],
   "source": [
    "df = df.set_index(df['Ano'])\n",
    "df = df[ ['Acesso à eletricidade no Brasil (%)', 'Acesso à eletricidade na Alemanha (%)', 'Acesso à eletricidade em Moçambique (%)'] ]\n",
    "df.head()"
   ]
  },
  {
   "cell_type": "markdown",
   "metadata": {},
   "source": [
    "### Parte 2: Correlações \n",
    "O indicador escolhido foi a mortalidade de crianças de até 5 anos. Como hipótese temos, que quanto maior o número de pessoas com acesso a eletricidade, memor será a taxa de mortalidade. \n"
   ]
  },
  {
   "cell_type": "code",
<<<<<<< HEAD
   "execution_count": 25,
=======
   "execution_count": 161,
>>>>>>> 746e6fc40fa5e5f4a21037e6150b8124d6d4dec5
   "metadata": {},
   "outputs": [
    {
     "data": {
      "text/html": [
       "<div>\n",
       "<style scoped>\n",
       "    .dataframe tbody tr th:only-of-type {\n",
       "        vertical-align: middle;\n",
       "    }\n",
       "\n",
       "    .dataframe tbody tr th {\n",
       "        vertical-align: top;\n",
       "    }\n",
       "\n",
       "    .dataframe thead th {\n",
       "        text-align: right;\n",
       "    }\n",
       "</style>\n",
       "<table border=\"1\" class=\"dataframe\">\n",
       "  <thead>\n",
       "    <tr style=\"text-align: right;\">\n",
       "      <th></th>\n",
       "      <th>Country Name</th>\n",
       "      <th>Country Code</th>\n",
       "      <th>Series Name</th>\n",
       "      <th>Series Code</th>\n",
       "      <th>2001 [YR2001]</th>\n",
       "      <th>2002 [YR2002]</th>\n",
       "      <th>2003 [YR2003]</th>\n",
       "      <th>2004 [YR2004]</th>\n",
       "      <th>2005 [YR2005]</th>\n",
       "      <th>2006 [YR2006]</th>\n",
       "      <th>...</th>\n",
       "      <th>2011 [YR2011]</th>\n",
       "      <th>2012 [YR2012]</th>\n",
       "      <th>2013 [YR2013]</th>\n",
       "      <th>2014 [YR2014]</th>\n",
       "      <th>2015 [YR2015]</th>\n",
       "      <th>2016 [YR2016]</th>\n",
       "      <th>2017 [YR2017]</th>\n",
       "      <th>2018 [YR2018]</th>\n",
       "      <th>2019 [YR2019]</th>\n",
       "      <th>2020 [YR2020]</th>\n",
       "    </tr>\n",
       "  </thead>\n",
       "  <tbody>\n",
       "    <tr>\n",
       "      <th>0</th>\n",
       "      <td>Brazil</td>\n",
       "      <td>BRA</td>\n",
       "      <td>Maternal mortality ratio (modeled estimate, pe...</td>\n",
       "      <td>SH.STA.MMRT</td>\n",
       "      <td>68</td>\n",
       "      <td>69</td>\n",
       "      <td>70</td>\n",
       "      <td>71</td>\n",
       "      <td>71</td>\n",
       "      <td>72</td>\n",
       "      <td>...</td>\n",
       "      <td>61</td>\n",
       "      <td>60</td>\n",
       "      <td>61</td>\n",
       "      <td>62</td>\n",
       "      <td>63</td>\n",
       "      <td>62</td>\n",
       "      <td>60</td>\n",
       "      <td>..</td>\n",
       "      <td>..</td>\n",
       "      <td>..</td>\n",
       "    </tr>\n",
       "    <tr>\n",
       "      <th>1</th>\n",
       "      <td>Brazil</td>\n",
       "      <td>BRA</td>\n",
       "      <td>Mortality rate, under-5 (per 1,000 live births)</td>\n",
       "      <td>SH.DYN.MORT</td>\n",
       "      <td>32.5</td>\n",
       "      <td>30.4</td>\n",
       "      <td>28.4</td>\n",
       "      <td>26.5</td>\n",
       "      <td>24.8</td>\n",
       "      <td>23.2</td>\n",
       "      <td>...</td>\n",
       "      <td>17.9</td>\n",
       "      <td>17.2</td>\n",
       "      <td>16.7</td>\n",
       "      <td>16.3</td>\n",
       "      <td>15.9</td>\n",
       "      <td>16.7</td>\n",
       "      <td>15.4</td>\n",
       "      <td>15.2</td>\n",
       "      <td>14.9</td>\n",
       "      <td>14.7</td>\n",
       "    </tr>\n",
       "    <tr>\n",
       "      <th>2</th>\n",
       "      <td>Brazil</td>\n",
       "      <td>BRA</td>\n",
       "      <td>Mortality rate, neonatal (per 1,000 live births)</td>\n",
       "      <td>SH.DYN.NMRT</td>\n",
       "      <td>17.6</td>\n",
       "      <td>16.7</td>\n",
       "      <td>15.8</td>\n",
       "      <td>15</td>\n",
       "      <td>14.2</td>\n",
       "      <td>13.5</td>\n",
       "      <td>...</td>\n",
       "      <td>10.7</td>\n",
       "      <td>10.3</td>\n",
       "      <td>10</td>\n",
       "      <td>9.7</td>\n",
       "      <td>9.5</td>\n",
       "      <td>10</td>\n",
       "      <td>9.3</td>\n",
       "      <td>9.2</td>\n",
       "      <td>8.9</td>\n",
       "      <td>8.7</td>\n",
       "    </tr>\n",
       "    <tr>\n",
       "      <th>3</th>\n",
       "      <td>Brazil</td>\n",
       "      <td>BRA</td>\n",
       "      <td>Number of people spending more than 10% of hou...</td>\n",
       "      <td>SH.UHC.OOPC.10.TO</td>\n",
       "      <td>..</td>\n",
       "      <td>..</td>\n",
       "      <td>..</td>\n",
       "      <td>..</td>\n",
       "      <td>..</td>\n",
       "      <td>..</td>\n",
       "      <td>...</td>\n",
       "      <td>..</td>\n",
       "      <td>..</td>\n",
       "      <td>..</td>\n",
       "      <td>..</td>\n",
       "      <td>..</td>\n",
       "      <td>..</td>\n",
       "      <td>..</td>\n",
       "      <td>..</td>\n",
       "      <td>..</td>\n",
       "      <td>..</td>\n",
       "    </tr>\n",
       "    <tr>\n",
       "      <th>4</th>\n",
       "      <td>Brazil</td>\n",
       "      <td>BRA</td>\n",
       "      <td>Proportion of population spending more than 10...</td>\n",
       "      <td>SH.UHC.OOPC.10.ZS</td>\n",
       "      <td>..</td>\n",
       "      <td>..</td>\n",
       "      <td>..</td>\n",
       "      <td>..</td>\n",
       "      <td>..</td>\n",
       "      <td>..</td>\n",
       "      <td>...</td>\n",
       "      <td>..</td>\n",
       "      <td>..</td>\n",
       "      <td>..</td>\n",
       "      <td>..</td>\n",
       "      <td>..</td>\n",
       "      <td>..</td>\n",
       "      <td>11.8118953704834</td>\n",
       "      <td>..</td>\n",
       "      <td>..</td>\n",
       "      <td>..</td>\n",
       "    </tr>\n",
       "  </tbody>\n",
       "</table>\n",
       "<p>5 rows × 24 columns</p>\n",
       "</div>"
      ],
      "text/plain": [
       "  Country Name Country Code  \\\n",
       "0       Brazil          BRA   \n",
       "1       Brazil          BRA   \n",
       "2       Brazil          BRA   \n",
       "3       Brazil          BRA   \n",
       "4       Brazil          BRA   \n",
       "\n",
       "                                         Series Name        Series Code  \\\n",
       "0  Maternal mortality ratio (modeled estimate, pe...        SH.STA.MMRT   \n",
       "1    Mortality rate, under-5 (per 1,000 live births)        SH.DYN.MORT   \n",
       "2   Mortality rate, neonatal (per 1,000 live births)        SH.DYN.NMRT   \n",
       "3  Number of people spending more than 10% of hou...  SH.UHC.OOPC.10.TO   \n",
       "4  Proportion of population spending more than 10...  SH.UHC.OOPC.10.ZS   \n",
       "\n",
       "  2001 [YR2001] 2002 [YR2002] 2003 [YR2003] 2004 [YR2004] 2005 [YR2005]  \\\n",
       "0            68            69            70            71            71   \n",
       "1          32.5          30.4          28.4          26.5          24.8   \n",
       "2          17.6          16.7          15.8            15          14.2   \n",
       "3            ..            ..            ..            ..            ..   \n",
       "4            ..            ..            ..            ..            ..   \n",
       "\n",
       "  2006 [YR2006]  ... 2011 [YR2011] 2012 [YR2012] 2013 [YR2013] 2014 [YR2014]  \\\n",
       "0            72  ...            61            60            61            62   \n",
       "1          23.2  ...          17.9          17.2          16.7          16.3   \n",
       "2          13.5  ...          10.7          10.3            10           9.7   \n",
       "3            ..  ...            ..            ..            ..            ..   \n",
       "4            ..  ...            ..            ..            ..            ..   \n",
       "\n",
       "  2015 [YR2015] 2016 [YR2016]     2017 [YR2017] 2018 [YR2018] 2019 [YR2019]  \\\n",
       "0            63            62                60            ..            ..   \n",
       "1          15.9          16.7              15.4          15.2          14.9   \n",
       "2           9.5            10               9.3           9.2           8.9   \n",
       "3            ..            ..                ..            ..            ..   \n",
       "4            ..            ..  11.8118953704834            ..            ..   \n",
       "\n",
       "  2020 [YR2020]  \n",
       "0            ..  \n",
       "1          14.7  \n",
       "2           8.7  \n",
       "3            ..  \n",
       "4            ..  \n",
       "\n",
       "[5 rows x 24 columns]"
      ]
     },
<<<<<<< HEAD
     "execution_count": 25,
=======
     "execution_count": 161,
>>>>>>> 746e6fc40fa5e5f4a21037e6150b8124d6d4dec5
     "metadata": {},
     "output_type": "execute_result"
    }
   ],
   "source": [
    "# APS_cdados_Insper\\dados\\Data_Extract_From_Sustainable_Development_Goals_(SDGs)\\e8792a52-f69a-48e7-a403-715479382981_Data.csv\n",
    "saude = pd.read_csv('dados/Data_Extract_From_Sustainable_Development_Goals_(SDGs)/'+ 'e8792a52-f69a-48e7-a403-715479382981_Data' +'.CSV', sep=',', encoding='UTF-8', decimal='.', skiprows=0)\n",
    "saude.head()"
   ]
  },
  {
   "cell_type": "code",
<<<<<<< HEAD
   "execution_count": 26,
=======
   "execution_count": 162,
>>>>>>> 746e6fc40fa5e5f4a21037e6150b8124d6d4dec5
   "metadata": {},
   "outputs": [],
   "source": [
    "saude = saude[ saude['Series Name'] == 'Mortality rate, under-5 (per 1,000 live births)']\n",
    "saude_bra = saude[ saude['Country Name'] == 'Brazil' ]\n",
    "\n",
    "saude_ger = saude[ saude['Country Name'] == 'Germany' ]\n",
    "\n",
    "saude_moz = saude[ saude['Country Name'] == 'Mozambique' ]\n"
   ]
  },
  {
   "cell_type": "code",
<<<<<<< HEAD
   "execution_count": 27,
=======
   "execution_count": 163,
>>>>>>> 746e6fc40fa5e5f4a21037e6150b8124d6d4dec5
   "metadata": {},
   "outputs": [],
   "source": [
    "saude_bra = saude_bra.T\n",
    "saude_ger = saude_ger.T\n",
    "saude_moz = saude_moz.T\n",
    "\n"
   ]
  },
  {
   "cell_type": "code",
<<<<<<< HEAD
   "execution_count": 28,
=======
   "execution_count": 164,
>>>>>>> 746e6fc40fa5e5f4a21037e6150b8124d6d4dec5
   "metadata": {},
   "outputs": [],
   "source": [
    "saude_bra = saude_bra.iloc[4:]\n",
    "saude_ger = saude_ger.iloc[4:]\n",
    "saude_moz = saude_moz.iloc[4:]\n"
   ]
  },
  {
   "cell_type": "code",
<<<<<<< HEAD
   "execution_count": 29,
=======
   "execution_count": 165,
>>>>>>> 746e6fc40fa5e5f4a21037e6150b8124d6d4dec5
   "metadata": {},
   "outputs": [],
   "source": [
    "saude_bra = saude_bra.rename({1 : 'Taxa de mortalidade até 5 anos, no Brasil'}, axis='columns')\n",
    "saude_ger = saude_ger.rename({8 : 'Taxa de mortalidade até 5 anos, na Alemanha'}, axis='columns')\n",
    "saude_moz = saude_moz.rename({15 : 'Taxa de mortalidade até 5 anos, em Moçambique'}, axis='columns')\n"
   ]
  },
  {
   "cell_type": "code",
<<<<<<< HEAD
   "execution_count": 30,
=======
   "execution_count": 166,
>>>>>>> 746e6fc40fa5e5f4a21037e6150b8124d6d4dec5
   "metadata": {},
   "outputs": [
    {
     "data": {
      "text/html": [
       "<div>\n",
       "<style scoped>\n",
       "    .dataframe tbody tr th:only-of-type {\n",
       "        vertical-align: middle;\n",
       "    }\n",
       "\n",
       "    .dataframe tbody tr th {\n",
       "        vertical-align: top;\n",
       "    }\n",
       "\n",
       "    .dataframe thead th {\n",
       "        text-align: right;\n",
       "    }\n",
       "</style>\n",
       "<table border=\"1\" class=\"dataframe\">\n",
       "  <thead>\n",
       "    <tr style=\"text-align: right;\">\n",
       "      <th></th>\n",
       "      <th>Taxa de mortalidade até 5 anos, no Brasil</th>\n",
       "      <th>Taxa de mortalidade até 5 anos, na Alemanha</th>\n",
       "      <th>Taxa de mortalidade até 5 anos, em Moçambique</th>\n",
       "    </tr>\n",
       "  </thead>\n",
       "  <tbody>\n",
       "    <tr>\n",
       "      <th>2016 [YR2016]</th>\n",
       "      <td>16.7</td>\n",
       "      <td>3.9</td>\n",
       "      <td>80.4</td>\n",
       "    </tr>\n",
       "    <tr>\n",
       "      <th>2017 [YR2017]</th>\n",
       "      <td>15.4</td>\n",
       "      <td>3.9</td>\n",
       "      <td>78</td>\n",
       "    </tr>\n",
       "    <tr>\n",
       "      <th>2018 [YR2018]</th>\n",
       "      <td>15.2</td>\n",
       "      <td>3.8</td>\n",
       "      <td>75.6</td>\n",
       "    </tr>\n",
       "    <tr>\n",
       "      <th>2019 [YR2019]</th>\n",
       "      <td>14.9</td>\n",
       "      <td>3.7</td>\n",
       "      <td>72.9</td>\n",
       "    </tr>\n",
       "    <tr>\n",
       "      <th>2020 [YR2020]</th>\n",
       "      <td>14.7</td>\n",
       "      <td>3.7</td>\n",
       "      <td>70.6</td>\n",
       "    </tr>\n",
       "  </tbody>\n",
       "</table>\n",
       "</div>"
      ],
      "text/plain": [
       "              Taxa de mortalidade até 5 anos, no Brasil  \\\n",
       "2016 [YR2016]                                      16.7   \n",
       "2017 [YR2017]                                      15.4   \n",
       "2018 [YR2018]                                      15.2   \n",
       "2019 [YR2019]                                      14.9   \n",
       "2020 [YR2020]                                      14.7   \n",
       "\n",
       "              Taxa de mortalidade até 5 anos, na Alemanha  \\\n",
       "2016 [YR2016]                                         3.9   \n",
       "2017 [YR2017]                                         3.9   \n",
       "2018 [YR2018]                                         3.8   \n",
       "2019 [YR2019]                                         3.7   \n",
       "2020 [YR2020]                                         3.7   \n",
       "\n",
       "              Taxa de mortalidade até 5 anos, em Moçambique  \n",
       "2016 [YR2016]                                          80.4  \n",
       "2017 [YR2017]                                            78  \n",
       "2018 [YR2018]                                          75.6  \n",
       "2019 [YR2019]                                          72.9  \n",
       "2020 [YR2020]                                          70.6  "
      ]
     },
<<<<<<< HEAD
     "execution_count": 30,
=======
     "execution_count": 166,
>>>>>>> 746e6fc40fa5e5f4a21037e6150b8124d6d4dec5
     "metadata": {},
     "output_type": "execute_result"
    }
   ],
   "source": [
    "df_saude = pd.concat((saude_bra, saude_ger, saude_moz), join='outer', axis=1)\n",
    "\n",
    "df_saude.tail()"
   ]
  },
  {
   "cell_type": "code",
<<<<<<< HEAD
   "execution_count": 31,
=======
   "execution_count": 167,
>>>>>>> 746e6fc40fa5e5f4a21037e6150b8124d6d4dec5
   "metadata": {},
   "outputs": [
    {
     "data": {
      "text/html": [
       "<div>\n",
       "<style scoped>\n",
       "    .dataframe tbody tr th:only-of-type {\n",
       "        vertical-align: middle;\n",
       "    }\n",
       "\n",
       "    .dataframe tbody tr th {\n",
       "        vertical-align: top;\n",
       "    }\n",
       "\n",
       "    .dataframe thead th {\n",
       "        text-align: right;\n",
       "    }\n",
       "</style>\n",
       "<table border=\"1\" class=\"dataframe\">\n",
       "  <thead>\n",
       "    <tr style=\"text-align: right;\">\n",
       "      <th></th>\n",
       "      <th>Taxa de mortalidade até 5 anos, no Brasil</th>\n",
       "      <th>Taxa de mortalidade até 5 anos, na Alemanha</th>\n",
       "      <th>Taxa de mortalidade até 5 anos, em Moçambique</th>\n",
       "    </tr>\n",
       "  </thead>\n",
       "  <tbody>\n",
       "    <tr>\n",
       "      <th>2016</th>\n",
       "      <td>16.7</td>\n",
       "      <td>3.9</td>\n",
       "      <td>80.4</td>\n",
       "    </tr>\n",
       "    <tr>\n",
       "      <th>2017</th>\n",
       "      <td>15.4</td>\n",
       "      <td>3.9</td>\n",
       "      <td>78</td>\n",
       "    </tr>\n",
       "    <tr>\n",
       "      <th>2018</th>\n",
       "      <td>15.2</td>\n",
       "      <td>3.8</td>\n",
       "      <td>75.6</td>\n",
       "    </tr>\n",
       "    <tr>\n",
       "      <th>2019</th>\n",
       "      <td>14.9</td>\n",
       "      <td>3.7</td>\n",
       "      <td>72.9</td>\n",
       "    </tr>\n",
       "    <tr>\n",
       "      <th>2020</th>\n",
       "      <td>14.7</td>\n",
       "      <td>3.7</td>\n",
       "      <td>70.6</td>\n",
       "    </tr>\n",
       "  </tbody>\n",
       "</table>\n",
       "</div>"
      ],
      "text/plain": [
       "     Taxa de mortalidade até 5 anos, no Brasil  \\\n",
       "2016                                      16.7   \n",
       "2017                                      15.4   \n",
       "2018                                      15.2   \n",
       "2019                                      14.9   \n",
       "2020                                      14.7   \n",
       "\n",
       "     Taxa de mortalidade até 5 anos, na Alemanha  \\\n",
       "2016                                         3.9   \n",
       "2017                                         3.9   \n",
       "2018                                         3.8   \n",
       "2019                                         3.7   \n",
       "2020                                         3.7   \n",
       "\n",
       "     Taxa de mortalidade até 5 anos, em Moçambique  \n",
       "2016                                          80.4  \n",
       "2017                                            78  \n",
       "2018                                          75.6  \n",
       "2019                                          72.9  \n",
       "2020                                          70.6  "
      ]
     },
<<<<<<< HEAD
     "execution_count": 31,
=======
     "execution_count": 167,
>>>>>>> 746e6fc40fa5e5f4a21037e6150b8124d6d4dec5
     "metadata": {},
     "output_type": "execute_result"
    }
   ],
   "source": [
    "anos = pd.Series(list(range(2001, 2021)))\n",
    "df_saude = df_saude.set_index(anos)\n",
    "\n",
    "df_saude.tail()"
   ]
  },
  {
   "cell_type": "code",
<<<<<<< HEAD
   "execution_count": 32,
=======
   "execution_count": 168,
>>>>>>> 746e6fc40fa5e5f4a21037e6150b8124d6d4dec5
   "metadata": {},
   "outputs": [],
   "source": [
    "df_saude['Taxa de mortalidade até 5 anos, no Brasil'] = pd.to_numeric(df_saude['Taxa de mortalidade até 5 anos, no Brasil'])\n",
    "df_saude['Taxa de mortalidade até 5 anos, na Alemanha'] = pd.to_numeric(df_saude['Taxa de mortalidade até 5 anos, na Alemanha'])\n",
    "df_saude['Taxa de mortalidade até 5 anos, em Moçambique'] = pd.to_numeric(df_saude['Taxa de mortalidade até 5 anos, em Moçambique'])\n"
   ]
  },
  {
   "cell_type": "code",
<<<<<<< HEAD
   "execution_count": 37,
=======
   "execution_count": 169,
>>>>>>> 746e6fc40fa5e5f4a21037e6150b8124d6d4dec5
   "metadata": {},
   "outputs": [
    {
     "data": {
      "image/png": "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",
      "text/plain": [
       "<Figure size 1600x700 with 1 Axes>"
      ]
     },
     "metadata": {},
     "output_type": "display_data"
    }
   ],
   "source": [
    "plt.style.use('default')\n",
    "plt.figure(figsize=(16,7))\n",
    "\n",
    "plt.plot(df_saude['Taxa de mortalidade até 5 anos, no Brasil'])\n",
    "plt.plot(df_saude['Taxa de mortalidade até 5 anos, na Alemanha'])\n",
    "plt.plot(df_saude['Taxa de mortalidade até 5 anos, em Moçambique'])\n",
    "\n",
    "plt.xticks(df_saude.index)\n",
    "plt.legend(['Brasil', 'Alemanha', 'Moçambique'])\n",
    "plt.xlabel('Ano')\n",
    "plt.ylabel('Mortes (a cada 1000 nascimentos)')\n",
    "plt.title('Taxa de mortalidade de crianças até 5 anos')\n",
    "plt.show()"
   ]
  },
  {
   "cell_type": "markdown",
   "metadata": {},
   "source": [
<<<<<<< HEAD
    "### Analise da relação do uso de energia elétrica e taxa de mortalidade de crinaças de até 5 anos\n",
    "Os dois indicadores são relacionados uma vez que a falta de acesso a energia podem causar problemas a saúde, desde o armazenamento de alimentos refrigerados, até uso de fogão a lenha, e de acordo com a ONU leva a milhões de mortes por ano por conta de fumaça, além de geladeira a gás, lamparinas a querosene, entre outros. Podemos ter como exemplo concreto, o projeto de lei que foi aprovado (Projeto de Lei 3579/20), que diz que a inclusão do acesso à energia elétrica como item fundamental para promoção da saúde. E apresentam que a falta de energia, leva ao uso de fontes de energia poluentes, que causam e agravam doenças respiratórias, além da liberação de gases que promovem a liberação de gases do efeito estufa. A hipóstese pode ser confirmada quando analisado ambos os gráficos, onde a maior taxa de mortalidade dos 3 países comparados é Moçambique, o mesmo país que teve o menor acesso a energia elétrica. Já o Brasil e Alemnaha tiveram números mais altos de acesso a energia, e números menores de taxa de mortalidade quando comparado a Moçambique. \n",
=======
    "### Comparação dos gráficos (da parte 1 e parte 2)"
   ]
  },
  {
   "cell_type": "code",
   "execution_count": 170,
   "metadata": {},
   "outputs": [
    {
     "data": {
      "image/png": "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",
      "text/plain": [
       "<Figure size 1400x700 with 2 Axes>"
      ]
     },
     "metadata": {},
     "output_type": "display_data"
    }
   ],
   "source": [
    "plt.style.use('default')\n",
    "plt.figure(figsize=(14,7))\n",
    "anos_saude = list(range(2000, 2021, 2))\n",
    "anos_eletricidade = list(range(1997, 2017, 2))\n",
    "\n",
    "\n",
    "plt.subplot(1, 2, 1)\n",
    "\n",
    "plt.plot(df['Acesso à eletricidade no Brasil (%)'])\n",
    "plt.plot(df['Acesso à eletricidade na Alemanha (%)'])\n",
    "plt.plot(df['Acesso à eletricidade em Moçambique (%)'])\n",
    "\n",
    "plt.xticks(anos_eletricidade)\n",
    "plt.legend(['Brasil', 'Alemanha', 'Moçambique'])\n",
    "plt.xlabel('Ano')\n",
    "plt.ylabel('% total da população')\n",
    "plt.title('Acesso à eletricidade')\n",
    "plt.xlabel('Ano')\n",
    "\n",
    "plt.subplot(1, 2, 2)\n",
    "\n",
    "plt.plot(df_saude['Taxa de mortalidade até 5 anos, no Brasil'])\n",
    "plt.plot(df_saude['Taxa de mortalidade até 5 anos, na Alemanha'])\n",
    "plt.plot(df_saude['Taxa de mortalidade até 5 anos, em Moçambique'])\n",
    "\n",
    "plt.xticks(anos_saude)\n",
    "plt.legend(['Brasil', 'Alemanha', 'Moçambique'])\n",
    "plt.xlabel('Ano')\n",
    "plt.ylabel('mortes (a cada 1000 nascimentos)')\n",
    "plt.title('Taxa de mortalidade de crianças até 5 anos')\n",
    "\n",
    "plt.show()"
   ]
  },
  {
   "cell_type": "markdown",
   "metadata": {},
   "source": [
    "### Correlação e Covariância entre os dados"
   ]
  },
  {
   "cell_type": "code",
   "execution_count": 171,
   "metadata": {},
   "outputs": [
    {
     "data": {
      "text/html": [
       "<div>\n",
       "<style scoped>\n",
       "    .dataframe tbody tr th:only-of-type {\n",
       "        vertical-align: middle;\n",
       "    }\n",
       "\n",
       "    .dataframe tbody tr th {\n",
       "        vertical-align: top;\n",
       "    }\n",
       "\n",
       "    .dataframe thead th {\n",
       "        text-align: right;\n",
       "    }\n",
       "</style>\n",
       "<table border=\"1\" class=\"dataframe\">\n",
       "  <thead>\n",
       "    <tr style=\"text-align: right;\">\n",
       "      <th></th>\n",
       "      <th>Acesso à eletricidade na Alemanha (%)</th>\n",
       "      <th>Taxa de mortalidade até 5 anos, na Alemanha</th>\n",
       "    </tr>\n",
       "  </thead>\n",
       "  <tbody>\n",
       "    <tr>\n",
       "      <th>2001.0</th>\n",
       "      <td>100.0</td>\n",
       "      <td>5.2</td>\n",
       "    </tr>\n",
       "    <tr>\n",
       "      <th>2002.0</th>\n",
       "      <td>100.0</td>\n",
       "      <td>5.1</td>\n",
       "    </tr>\n",
       "    <tr>\n",
       "      <th>2003.0</th>\n",
       "      <td>100.0</td>\n",
       "      <td>5.0</td>\n",
       "    </tr>\n",
       "    <tr>\n",
       "      <th>2004.0</th>\n",
       "      <td>100.0</td>\n",
       "      <td>4.9</td>\n",
       "    </tr>\n",
       "    <tr>\n",
       "      <th>2005.0</th>\n",
       "      <td>100.0</td>\n",
       "      <td>4.7</td>\n",
       "    </tr>\n",
       "  </tbody>\n",
       "</table>\n",
       "</div>"
      ],
      "text/plain": [
       "        Acesso à eletricidade na Alemanha (%)  \\\n",
       "2001.0                                  100.0   \n",
       "2002.0                                  100.0   \n",
       "2003.0                                  100.0   \n",
       "2004.0                                  100.0   \n",
       "2005.0                                  100.0   \n",
       "\n",
       "        Taxa de mortalidade até 5 anos, na Alemanha  \n",
       "2001.0                                          5.2  \n",
       "2002.0                                          5.1  \n",
       "2003.0                                          5.0  \n",
       "2004.0                                          4.9  \n",
       "2005.0                                          4.7  "
      ]
     },
     "execution_count": 171,
     "metadata": {},
     "output_type": "execute_result"
    }
   ],
   "source": [
    "df_cor_moz = pd.concat( (df['Acesso à eletricidade em Moçambique (%)'], df_saude['Taxa de mortalidade até 5 anos, em Moçambique']), join='inner', axis = 1)\n",
    "df_cor_bra = pd.concat( (df['Acesso à eletricidade no Brasil (%)'], df_saude['Taxa de mortalidade até 5 anos, no Brasil']), join='inner', axis = 1)\n",
    "df_cor_ger = pd.concat( (df['Acesso à eletricidade na Alemanha (%)'], df_saude['Taxa de mortalidade até 5 anos, na Alemanha']), join='inner', axis = 1)\n",
    "\n",
    "df_cor_ger.head()\n",
    "# sda_ = pd.concat((sda1, sda2), join='outer', axis=1)\n",
    "# sda_.head()\n"
   ]
  },
  {
   "cell_type": "markdown",
   "metadata": {},
   "source": [
    "##### Correlação e covariância em Moçambique"
   ]
  },
  {
   "cell_type": "code",
   "execution_count": 172,
   "metadata": {},
   "outputs": [
    {
     "data": {
      "text/html": [
       "<div>\n",
       "<style scoped>\n",
       "    .dataframe tbody tr th:only-of-type {\n",
       "        vertical-align: middle;\n",
       "    }\n",
       "\n",
       "    .dataframe tbody tr th {\n",
       "        vertical-align: top;\n",
       "    }\n",
       "\n",
       "    .dataframe thead th {\n",
       "        text-align: right;\n",
       "    }\n",
       "</style>\n",
       "<table border=\"1\" class=\"dataframe\">\n",
       "  <thead>\n",
       "    <tr style=\"text-align: right;\">\n",
       "      <th></th>\n",
       "      <th>Acesso à eletricidade em Moçambique (%)</th>\n",
       "      <th>Taxa de mortalidade até 5 anos, em Moçambique</th>\n",
       "    </tr>\n",
       "  </thead>\n",
       "  <tbody>\n",
       "    <tr>\n",
       "      <th>Acesso à eletricidade em Moçambique (%)</th>\n",
       "      <td>1.000000</td>\n",
       "      <td>-0.978918</td>\n",
       "    </tr>\n",
       "    <tr>\n",
       "      <th>Taxa de mortalidade até 5 anos, em Moçambique</th>\n",
       "      <td>-0.978918</td>\n",
       "      <td>1.000000</td>\n",
       "    </tr>\n",
       "  </tbody>\n",
       "</table>\n",
       "</div>"
      ],
      "text/plain": [
       "                                               Acesso à eletricidade em Moçambique (%)  \\\n",
       "Acesso à eletricidade em Moçambique (%)                                       1.000000   \n",
       "Taxa de mortalidade até 5 anos, em Moçambique                                -0.978918   \n",
       "\n",
       "                                               Taxa de mortalidade até 5 anos, em Moçambique  \n",
       "Acesso à eletricidade em Moçambique (%)                                            -0.978918  \n",
       "Taxa de mortalidade até 5 anos, em Moçambique                                       1.000000  "
      ]
     },
     "execution_count": 172,
     "metadata": {},
     "output_type": "execute_result"
    }
   ],
   "source": [
    "## correlação\n",
    "corr_moz = df_cor_moz.corr()\n",
    "corr_moz"
   ]
  },
  {
   "cell_type": "code",
   "execution_count": 173,
   "metadata": {},
   "outputs": [
    {
     "data": {
      "text/html": [
       "<div>\n",
       "<style scoped>\n",
       "    .dataframe tbody tr th:only-of-type {\n",
       "        vertical-align: middle;\n",
       "    }\n",
       "\n",
       "    .dataframe tbody tr th {\n",
       "        vertical-align: top;\n",
       "    }\n",
       "\n",
       "    .dataframe thead th {\n",
       "        text-align: right;\n",
       "    }\n",
       "</style>\n",
       "<table border=\"1\" class=\"dataframe\">\n",
       "  <thead>\n",
       "    <tr style=\"text-align: right;\">\n",
       "      <th></th>\n",
       "      <th>Acesso à eletricidade em Moçambique (%)</th>\n",
       "      <th>Taxa de mortalidade até 5 anos, em Moçambique</th>\n",
       "    </tr>\n",
       "  </thead>\n",
       "  <tbody>\n",
       "    <tr>\n",
       "      <th>Acesso à eletricidade em Moçambique (%)</th>\n",
       "      <td>33.435441</td>\n",
       "      <td>-142.477401</td>\n",
       "    </tr>\n",
       "    <tr>\n",
       "      <th>Taxa de mortalidade até 5 anos, em Moçambique</th>\n",
       "      <td>-142.477401</td>\n",
       "      <td>633.566667</td>\n",
       "    </tr>\n",
       "  </tbody>\n",
       "</table>\n",
       "</div>"
      ],
      "text/plain": [
       "                                               Acesso à eletricidade em Moçambique (%)  \\\n",
       "Acesso à eletricidade em Moçambique (%)                                      33.435441   \n",
       "Taxa de mortalidade até 5 anos, em Moçambique                              -142.477401   \n",
       "\n",
       "                                               Taxa de mortalidade até 5 anos, em Moçambique  \n",
       "Acesso à eletricidade em Moçambique (%)                                          -142.477401  \n",
       "Taxa de mortalidade até 5 anos, em Moçambique                                     633.566667  "
      ]
     },
     "execution_count": 173,
     "metadata": {},
     "output_type": "execute_result"
    }
   ],
   "source": [
    "## covariância\n",
    "cov_moz = df_cor_moz.cov()\n",
    "cov_moz"
   ]
  },
  {
   "cell_type": "markdown",
   "metadata": {},
   "source": [
    "##### Correlação e covariância no Brasil"
   ]
  },
  {
   "cell_type": "code",
   "execution_count": 174,
   "metadata": {},
   "outputs": [
    {
     "data": {
      "text/html": [
       "<div>\n",
       "<style scoped>\n",
       "    .dataframe tbody tr th:only-of-type {\n",
       "        vertical-align: middle;\n",
       "    }\n",
       "\n",
       "    .dataframe tbody tr th {\n",
       "        vertical-align: top;\n",
       "    }\n",
       "\n",
       "    .dataframe thead th {\n",
       "        text-align: right;\n",
       "    }\n",
       "</style>\n",
       "<table border=\"1\" class=\"dataframe\">\n",
       "  <thead>\n",
       "    <tr style=\"text-align: right;\">\n",
       "      <th></th>\n",
       "      <th>Acesso à eletricidade no Brasil (%)</th>\n",
       "      <th>Taxa de mortalidade até 5 anos, no Brasil</th>\n",
       "    </tr>\n",
       "  </thead>\n",
       "  <tbody>\n",
       "    <tr>\n",
       "      <th>Acesso à eletricidade no Brasil (%)</th>\n",
       "      <td>1.00000</td>\n",
       "      <td>-0.97667</td>\n",
       "    </tr>\n",
       "    <tr>\n",
       "      <th>Taxa de mortalidade até 5 anos, no Brasil</th>\n",
       "      <td>-0.97667</td>\n",
       "      <td>1.00000</td>\n",
       "    </tr>\n",
       "  </tbody>\n",
       "</table>\n",
       "</div>"
      ],
      "text/plain": [
       "                                           Acesso à eletricidade no Brasil (%)  \\\n",
       "Acesso à eletricidade no Brasil (%)                                    1.00000   \n",
       "Taxa de mortalidade até 5 anos, no Brasil                             -0.97667   \n",
       "\n",
       "                                           Taxa de mortalidade até 5 anos, no Brasil  \n",
       "Acesso à eletricidade no Brasil (%)                                         -0.97667  \n",
       "Taxa de mortalidade até 5 anos, no Brasil                                    1.00000  "
      ]
     },
     "execution_count": 174,
     "metadata": {},
     "output_type": "execute_result"
    }
   ],
   "source": [
    "corr_bra = df_cor_bra.corr()\n",
    "corr_bra"
   ]
  },
  {
   "cell_type": "code",
   "execution_count": 175,
   "metadata": {},
   "outputs": [
    {
     "data": {
      "text/html": [
       "<div>\n",
       "<style scoped>\n",
       "    .dataframe tbody tr th:only-of-type {\n",
       "        vertical-align: middle;\n",
       "    }\n",
       "\n",
       "    .dataframe tbody tr th {\n",
       "        vertical-align: top;\n",
       "    }\n",
       "\n",
       "    .dataframe thead th {\n",
       "        text-align: right;\n",
       "    }\n",
       "</style>\n",
       "<table border=\"1\" class=\"dataframe\">\n",
       "  <thead>\n",
       "    <tr style=\"text-align: right;\">\n",
       "      <th></th>\n",
       "      <th>Acesso à eletricidade no Brasil (%)</th>\n",
       "      <th>Taxa de mortalidade até 5 anos, no Brasil</th>\n",
       "    </tr>\n",
       "  </thead>\n",
       "  <tbody>\n",
       "    <tr>\n",
       "      <th>Acesso à eletricidade no Brasil (%)</th>\n",
       "      <td>1.704756</td>\n",
       "      <td>-6.869365</td>\n",
       "    </tr>\n",
       "    <tr>\n",
       "      <th>Taxa de mortalidade até 5 anos, no Brasil</th>\n",
       "      <td>-6.869365</td>\n",
       "      <td>29.018500</td>\n",
       "    </tr>\n",
       "  </tbody>\n",
       "</table>\n",
       "</div>"
      ],
      "text/plain": [
       "                                           Acesso à eletricidade no Brasil (%)  \\\n",
       "Acesso à eletricidade no Brasil (%)                                   1.704756   \n",
       "Taxa de mortalidade até 5 anos, no Brasil                            -6.869365   \n",
       "\n",
       "                                           Taxa de mortalidade até 5 anos, no Brasil  \n",
       "Acesso à eletricidade no Brasil (%)                                        -6.869365  \n",
       "Taxa de mortalidade até 5 anos, no Brasil                                  29.018500  "
      ]
     },
     "execution_count": 175,
     "metadata": {},
     "output_type": "execute_result"
    }
   ],
   "source": [
    "cov_bra = df_cor_bra.cov()\n",
    "cov_bra"
   ]
  },
  {
   "cell_type": "markdown",
   "metadata": {},
   "source": [
    "##### Correlação e covariância na Alemanha"
   ]
  },
  {
   "cell_type": "code",
   "execution_count": 176,
   "metadata": {},
   "outputs": [
    {
     "data": {
      "text/html": [
       "<div>\n",
       "<style scoped>\n",
       "    .dataframe tbody tr th:only-of-type {\n",
       "        vertical-align: middle;\n",
       "    }\n",
       "\n",
       "    .dataframe tbody tr th {\n",
       "        vertical-align: top;\n",
       "    }\n",
       "\n",
       "    .dataframe thead th {\n",
       "        text-align: right;\n",
       "    }\n",
       "</style>\n",
       "<table border=\"1\" class=\"dataframe\">\n",
       "  <thead>\n",
       "    <tr style=\"text-align: right;\">\n",
       "      <th></th>\n",
       "      <th>Acesso à eletricidade na Alemanha (%)</th>\n",
       "      <th>Taxa de mortalidade até 5 anos, na Alemanha</th>\n",
       "    </tr>\n",
       "  </thead>\n",
       "  <tbody>\n",
       "    <tr>\n",
       "      <th>Acesso à eletricidade na Alemanha (%)</th>\n",
       "      <td>NaN</td>\n",
       "      <td>NaN</td>\n",
       "    </tr>\n",
       "    <tr>\n",
       "      <th>Taxa de mortalidade até 5 anos, na Alemanha</th>\n",
       "      <td>NaN</td>\n",
       "      <td>1.0</td>\n",
       "    </tr>\n",
       "  </tbody>\n",
       "</table>\n",
       "</div>"
      ],
      "text/plain": [
       "                                             Acesso à eletricidade na Alemanha (%)  \\\n",
       "Acesso à eletricidade na Alemanha (%)                                          NaN   \n",
       "Taxa de mortalidade até 5 anos, na Alemanha                                    NaN   \n",
       "\n",
       "                                             Taxa de mortalidade até 5 anos, na Alemanha  \n",
       "Acesso à eletricidade na Alemanha (%)                                                NaN  \n",
       "Taxa de mortalidade até 5 anos, na Alemanha                                          1.0  "
      ]
     },
     "execution_count": 176,
     "metadata": {},
     "output_type": "execute_result"
    }
   ],
   "source": [
    "corr_ger = df_cor_ger.corr()\n",
    "corr_ger"
   ]
  },
  {
   "cell_type": "code",
   "execution_count": 177,
   "metadata": {},
   "outputs": [
    {
     "data": {
      "text/html": [
       "<div>\n",
       "<style scoped>\n",
       "    .dataframe tbody tr th:only-of-type {\n",
       "        vertical-align: middle;\n",
       "    }\n",
       "\n",
       "    .dataframe tbody tr th {\n",
       "        vertical-align: top;\n",
       "    }\n",
       "\n",
       "    .dataframe thead th {\n",
       "        text-align: right;\n",
       "    }\n",
       "</style>\n",
       "<table border=\"1\" class=\"dataframe\">\n",
       "  <thead>\n",
       "    <tr style=\"text-align: right;\">\n",
       "      <th></th>\n",
       "      <th>Acesso à eletricidade na Alemanha (%)</th>\n",
       "      <th>Taxa de mortalidade até 5 anos, na Alemanha</th>\n",
       "    </tr>\n",
       "  </thead>\n",
       "  <tbody>\n",
       "    <tr>\n",
       "      <th>Acesso à eletricidade na Alemanha (%)</th>\n",
       "      <td>0.0</td>\n",
       "      <td>0.000000</td>\n",
       "    </tr>\n",
       "    <tr>\n",
       "      <th>Taxa de mortalidade até 5 anos, na Alemanha</th>\n",
       "      <td>0.0</td>\n",
       "      <td>0.199333</td>\n",
       "    </tr>\n",
       "  </tbody>\n",
       "</table>\n",
       "</div>"
      ],
      "text/plain": [
       "                                             Acesso à eletricidade na Alemanha (%)  \\\n",
       "Acesso à eletricidade na Alemanha (%)                                          0.0   \n",
       "Taxa de mortalidade até 5 anos, na Alemanha                                    0.0   \n",
       "\n",
       "                                             Taxa de mortalidade até 5 anos, na Alemanha  \n",
       "Acesso à eletricidade na Alemanha (%)                                           0.000000  \n",
       "Taxa de mortalidade até 5 anos, na Alemanha                                     0.199333  "
      ]
     },
     "execution_count": 177,
     "metadata": {},
     "output_type": "execute_result"
    }
   ],
   "source": [
    "cov_ger = df_cor_ger.cov()\n",
    "cov_ger"
   ]
  },
  {
   "cell_type": "markdown",
   "metadata": {},
   "source": [
    "Espera-se que os dois indicadores estejam relacionados, uma vez que a falta de acesso a energia podem causar problemas a saúde, desde o armazenamento de alimentos refrigerados, até uso de fogão a lenha, e de acordo com a ONU leva a milhões de mortes por ano por conta de fumaça, além de geladeira a gás, lamparinas a querosene, entre outros. Podemos ter como exemplo concreto, o projeto de lei que foi aprovado (Projeto de Lei 3579/20), que diz que a inclusão do acesso à energia elétrica como item fundamental para promoção da saúde. E apresentam que a falta de energia, leva ao uso de fontes de energia poluentes, que causam e agravam doenças respiratórias, além da liberação de gases que promovem a liberação de gases do efeito estufa.  \n",
>>>>>>> 746e6fc40fa5e5f4a21037e6150b8124d6d4dec5
    "\n",
    "Ao analisar a correlação entre os indicadores, os valores apresentados indicam forte correlação inversa, ou seja, os dois estão próximos de um comportamento inversamente proporcional no período considerado, para Moçambique e Brasil (correlção de -0,97). Por outro lado, não foi possível determinar a correlação no caso da Alemanha, tendo em vista que o acesso a energia elétrica não variou durante todo o período considerado (manteve-se em 100%). Isso indica que investimento em infraestrutura (como políticas de acesso a energia elétrica) podem ser efetivas para diminuição da mortalidade infantil em Moçambique e até no Brasil, porém o mesmo não é válido para Alemanha. Desse modo, uma hipótese que pode ser levantada é que, em países em desenvolvimento, a falta de infraestrutura pode ser um fator relevante na taxa de mortalidade, porém, nos países desenvolvidos, investimentos em infraestrutura tem influência irrisória na taxa de mortalidade.\n",
    "\n",
    "\n",
    "**Referência bibliográfica**\n",
    "- https://brasil.un.org/pt-br/130381-acesso-eletricidade-avanca-mas-desigualdade-ainda-e-obstaculo-para-cumprir-meta-de-energia\n",
    "- https://www.camara.leg.br/noticias/809883-comissao-aprova-inclusao-do-acesso-a-energia-eletrica-como-item-fundamental-para-promocao-da-saude/"
   ]
  },
  {
   "cell_type": "markdown",
   "metadata": {},
   "source": [
    "### Modificação feitas na entrega anterior:\n",
    "\n",
    "\n",
    "- Nomes nos eixos:\t\n",
    "Título adicionado aos eixos, bem como adequação do título do gráfico para evitar redundância.\n",
    "\n",
    "\n"
   ]
  },
  {
   "cell_type": "code",
   "execution_count": null,
   "metadata": {},
   "outputs": [],
   "source": []
  }
 ],
 "metadata": {
  "kernelspec": {
   "display_name": "Python 3.10.2 64-bit",
   "language": "python",
   "name": "python3"
  },
  "language_info": {
   "codemirror_mode": {
    "name": "ipython",
    "version": 3
   },
   "file_extension": ".py",
   "mimetype": "text/x-python",
   "name": "python",
   "nbconvert_exporter": "python",
   "pygments_lexer": "ipython3",
   "version": "3.10.2"
  },
  "orig_nbformat": 4,
  "vscode": {
   "interpreter": {
    "hash": "95721ba7029919eb9723193aa8f18a0864a5e546a562eaffea1e84b1cebe8d26"
   }
  }
 },
 "nbformat": 4,
 "nbformat_minor": 2
}
