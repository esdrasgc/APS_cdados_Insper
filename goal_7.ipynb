{
 "cells": [
  {
   "cell_type": "markdown",
   "metadata": {},
   "source": [
    "## Parte 1: Exploratória\n",
    "## Goal 7 - Garantir o acesso a energia acessível, confiável, sustentável e moderna para todos\n",
    "O objetivo de desenvolvimento sustentável escolhido foi o 7, que diz garantir o acesso a energia acessível, confiável, sustentável e moderna para todos. A eletricidade é algo básico para inserção no mundo moderno e tão essencial no dia a dia, incomparável com qualquer outra invenção, considerando até que a revolução tecnológica só foi possível por conta de sua da presença. \n",
    "Algo indispensável em nossas vidas, estando presente desde a iluminação, aquecimento, fins médicos, uso de eletrodomésticos, computadores, até sistemas de transporte público e muitos outros.\n",
    "O número de pessoas sem acesso a eletricidade foi um fator que chamou atenção, o que levou ao indicador escolhido, o acesso a energia elétrica. O objetivo é diretamente relacionado ao indicador uma vez que o próprio objetivo é garantir o acesso de todos a energia confiável, sustentável e moderna.\n",
    "A seguir, segue a análise realizada, utilizando os dados do World Bank (https://databank.worldbank.org/source/sustainable-energy-for-all#) com base em 3 países, a saber, Brasil, Alemanha e Moçambique."
   ]
  },
  {
   "cell_type": "code",
   "execution_count": 775,
   "metadata": {},
   "outputs": [
    {
     "data": {
      "text/html": [
       "<div>\n",
       "<style scoped>\n",
       "    .dataframe tbody tr th:only-of-type {\n",
       "        vertical-align: middle;\n",
       "    }\n",
       "\n",
       "    .dataframe tbody tr th {\n",
       "        vertical-align: top;\n",
       "    }\n",
       "\n",
       "    .dataframe thead th {\n",
       "        text-align: right;\n",
       "    }\n",
       "</style>\n",
       "<table border=\"1\" class=\"dataframe\">\n",
       "  <thead>\n",
       "    <tr style=\"text-align: right;\">\n",
       "      <th></th>\n",
       "      <th>Country Name</th>\n",
       "      <th>Country Code</th>\n",
       "      <th>Time</th>\n",
       "      <th>Time Code</th>\n",
       "      <th>Access to Clean Fuels and Technologies for cooking (% of total population) [2.1_ACCESS.CFT.TOT]</th>\n",
       "      <th>Access to electricity (% of rural population with access) [1.2_ACCESS.ELECTRICITY.RURAL]</th>\n",
       "      <th>Access to electricity (% of total population) [1.1_ACCESS.ELECTRICITY.TOT]</th>\n",
       "      <th>Access to electricity (% of urban population with access) [1.3_ACCESS.ELECTRICITY.URBAN]</th>\n",
       "      <th>Energy intensity level of primary energy (MJ/2011 USD PPP) [6.1_PRIMARY.ENERGY.INTENSITY]</th>\n",
       "      <th>Renewable electricity output (GWh) [4.1.2_REN.ELECTRICITY.OUTPUT]</th>\n",
       "      <th>Renewable electricity share of total electricity output (%) [4.1_SHARE.RE.IN.ELECTRICITY]</th>\n",
       "      <th>Renewable energy consumption (TJ) [3.1_RE.CONSUMPTION]</th>\n",
       "      <th>Renewable energy share of TFEC (%) [2.1_SHARE.TOTAL.RE.IN.TFEC]</th>\n",
       "      <th>Total electricity output (GWh) [4.1.1_TOTAL.ELECTRICITY.OUTPUT]</th>\n",
       "      <th>Total final energy consumption (TFEC) (TJ) [1.1_TOTAL.FINAL.ENERGY.CONSUM]</th>\n",
       "    </tr>\n",
       "  </thead>\n",
       "  <tbody>\n",
       "    <tr>\n",
       "      <th>0</th>\n",
       "      <td>Brazil</td>\n",
       "      <td>BRA</td>\n",
       "      <td>1997.0</td>\n",
       "      <td>YR1997</td>\n",
       "      <td>..</td>\n",
       "      <td>68.817801</td>\n",
       "      <td>93.354139</td>\n",
       "      <td>99.056926</td>\n",
       "      <td>3.94084953998611</td>\n",
       "      <td>286355</td>\n",
       "      <td>92.9778363670604</td>\n",
       "      <td>2405843</td>\n",
       "      <td>43.7251083730704</td>\n",
       "      <td>307982</td>\n",
       "      <td>5502200.199192</td>\n",
       "    </tr>\n",
       "    <tr>\n",
       "      <th>1</th>\n",
       "      <td>Brazil</td>\n",
       "      <td>BRA</td>\n",
       "      <td>1998.0</td>\n",
       "      <td>YR1998</td>\n",
       "      <td>..</td>\n",
       "      <td>72.778247</td>\n",
       "      <td>94.193812</td>\n",
       "      <td>99.137016</td>\n",
       "      <td>4.0217825990965</td>\n",
       "      <td>298979</td>\n",
       "      <td>92.9233437348484</td>\n",
       "      <td>2491751</td>\n",
       "      <td>43.8615767414815</td>\n",
       "      <td>321748</td>\n",
       "      <td>5680942.604244</td>\n",
       "    </tr>\n",
       "    <tr>\n",
       "      <th>2</th>\n",
       "      <td>Brazil</td>\n",
       "      <td>BRA</td>\n",
       "      <td>1999.0</td>\n",
       "      <td>YR1999</td>\n",
       "      <td>..</td>\n",
       "      <td>75.436121</td>\n",
       "      <td>94.762960</td>\n",
       "      <td>99.186252</td>\n",
       "      <td>4.09373895058941</td>\n",
       "      <td>301368</td>\n",
       "      <td>90.0369268275195</td>\n",
       "      <td>2559594</td>\n",
       "      <td>44.0972758704006</td>\n",
       "      <td>334716</td>\n",
       "      <td>5804426.576196</td>\n",
       "    </tr>\n",
       "    <tr>\n",
       "      <th>3</th>\n",
       "      <td>Brazil</td>\n",
       "      <td>BRA</td>\n",
       "      <td>2000.0</td>\n",
       "      <td>YR2000</td>\n",
       "      <td>86.91</td>\n",
       "      <td>74.9041610654805</td>\n",
       "      <td>94.466568</td>\n",
       "      <td>98.998169</td>\n",
       "      <td>3.94784572124322</td>\n",
       "      <td>312249</td>\n",
       "      <td>89.4927058553782</td>\n",
       "      <td>2504059</td>\n",
       "      <td>42.7987739937361</td>\n",
       "      <td>348910</td>\n",
       "      <td>5850772.735608</td>\n",
       "    </tr>\n",
       "    <tr>\n",
       "      <th>4</th>\n",
       "      <td>Brazil</td>\n",
       "      <td>BRA</td>\n",
       "      <td>2001.0</td>\n",
       "      <td>YR2001</td>\n",
       "      <td>87.89</td>\n",
       "      <td>77.62953</td>\n",
       "      <td>96.016528</td>\n",
       "      <td>99.215119</td>\n",
       "      <td>3.9512174689924</td>\n",
       "      <td>276891</td>\n",
       "      <td>84.2874450546105</td>\n",
       "      <td>2428426</td>\n",
       "      <td>41.4778788144924</td>\n",
       "      <td>328508</td>\n",
       "      <td>5854749.73506</td>\n",
       "    </tr>\n",
       "  </tbody>\n",
       "</table>\n",
       "</div>"
      ],
      "text/plain": [
       "  Country Name Country Code    Time Time Code  \\\n",
       "0       Brazil          BRA  1997.0    YR1997   \n",
       "1       Brazil          BRA  1998.0    YR1998   \n",
       "2       Brazil          BRA  1999.0    YR1999   \n",
       "3       Brazil          BRA  2000.0    YR2000   \n",
       "4       Brazil          BRA  2001.0    YR2001   \n",
       "\n",
       "  Access to Clean Fuels and Technologies for cooking (% of total population) [2.1_ACCESS.CFT.TOT]  \\\n",
       "0                                                 ..                                                \n",
       "1                                                 ..                                                \n",
       "2                                                 ..                                                \n",
       "3                                              86.91                                                \n",
       "4                                              87.89                                                \n",
       "\n",
       "  Access to electricity (% of rural population with access) [1.2_ACCESS.ELECTRICITY.RURAL]  \\\n",
       "0                                          68.817801                                         \n",
       "1                                          72.778247                                         \n",
       "2                                          75.436121                                         \n",
       "3                                   74.9041610654805                                         \n",
       "4                                           77.62953                                         \n",
       "\n",
       "   Access to electricity (% of total population) [1.1_ACCESS.ELECTRICITY.TOT]  \\\n",
       "0                                          93.354139                            \n",
       "1                                          94.193812                            \n",
       "2                                          94.762960                            \n",
       "3                                          94.466568                            \n",
       "4                                          96.016528                            \n",
       "\n",
       "   Access to electricity (% of urban population with access) [1.3_ACCESS.ELECTRICITY.URBAN]  \\\n",
       "0                                          99.056926                                          \n",
       "1                                          99.137016                                          \n",
       "2                                          99.186252                                          \n",
       "3                                          98.998169                                          \n",
       "4                                          99.215119                                          \n",
       "\n",
       "  Energy intensity level of primary energy (MJ/2011 USD PPP) [6.1_PRIMARY.ENERGY.INTENSITY]  \\\n",
       "0                                   3.94084953998611                                          \n",
       "1                                    4.0217825990965                                          \n",
       "2                                   4.09373895058941                                          \n",
       "3                                   3.94784572124322                                          \n",
       "4                                    3.9512174689924                                          \n",
       "\n",
       "  Renewable electricity output (GWh) [4.1.2_REN.ELECTRICITY.OUTPUT]  \\\n",
       "0                                             286355                  \n",
       "1                                             298979                  \n",
       "2                                             301368                  \n",
       "3                                             312249                  \n",
       "4                                             276891                  \n",
       "\n",
       "  Renewable electricity share of total electricity output (%) [4.1_SHARE.RE.IN.ELECTRICITY]  \\\n",
       "0                                   92.9778363670604                                          \n",
       "1                                   92.9233437348484                                          \n",
       "2                                   90.0369268275195                                          \n",
       "3                                   89.4927058553782                                          \n",
       "4                                   84.2874450546105                                          \n",
       "\n",
       "  Renewable energy consumption (TJ) [3.1_RE.CONSUMPTION]  \\\n",
       "0                                            2405843       \n",
       "1                                            2491751       \n",
       "2                                            2559594       \n",
       "3                                            2504059       \n",
       "4                                            2428426       \n",
       "\n",
       "  Renewable energy share of TFEC (%) [2.1_SHARE.TOTAL.RE.IN.TFEC]  \\\n",
       "0                                   43.7251083730704                \n",
       "1                                   43.8615767414815                \n",
       "2                                   44.0972758704006                \n",
       "3                                   42.7987739937361                \n",
       "4                                   41.4778788144924                \n",
       "\n",
       "  Total electricity output (GWh) [4.1.1_TOTAL.ELECTRICITY.OUTPUT]  \\\n",
       "0                                             307982                \n",
       "1                                             321748                \n",
       "2                                             334716                \n",
       "3                                             348910                \n",
       "4                                             328508                \n",
       "\n",
       "  Total final energy consumption (TFEC) (TJ) [1.1_TOTAL.FINAL.ENERGY.CONSUM]  \n",
       "0                                     5502200.199192                          \n",
       "1                                     5680942.604244                          \n",
       "2                                     5804426.576196                          \n",
       "3                                     5850772.735608                          \n",
       "4                                      5854749.73506                          "
      ]
     },
     "execution_count": 775,
     "metadata": {},
     "output_type": "execute_result"
    }
   ],
   "source": [
    "import pandas as pd\n",
    "\n",
    "# df = pd.read_csv('dados/SDG_csv/'+ 'SDGData' +'.CSV', sep=',', encoding='UTF-8', decimal='.', skiprows=0)\n",
    "df = pd.read_csv('dados/Data_Extract_From_Sustainable_Energy_for_All/'+ '6d90deca-5693-43c3-8e1f-664a61b7c0db_Data' +'.csv', sep=',', encoding='UTF-8', decimal='.', skiprows=0)\n",
    "df.head()"
   ]
  },
  {
   "cell_type": "code",
   "execution_count": 776,
   "metadata": {},
   "outputs": [
    {
     "data": {
      "text/html": [
       "<div>\n",
       "<style scoped>\n",
       "    .dataframe tbody tr th:only-of-type {\n",
       "        vertical-align: middle;\n",
       "    }\n",
       "\n",
       "    .dataframe tbody tr th {\n",
       "        vertical-align: top;\n",
       "    }\n",
       "\n",
       "    .dataframe thead th {\n",
       "        text-align: right;\n",
       "    }\n",
       "</style>\n",
       "<table border=\"1\" class=\"dataframe\">\n",
       "  <thead>\n",
       "    <tr style=\"text-align: right;\">\n",
       "      <th></th>\n",
       "      <th>Nome do país</th>\n",
       "      <th>Ano</th>\n",
       "      <th>Acesso à eletricidade (%)</th>\n",
       "    </tr>\n",
       "  </thead>\n",
       "  <tbody>\n",
       "    <tr>\n",
       "      <th>0</th>\n",
       "      <td>Brazil</td>\n",
       "      <td>1997.0</td>\n",
       "      <td>93.354139</td>\n",
       "    </tr>\n",
       "    <tr>\n",
       "      <th>1</th>\n",
       "      <td>Brazil</td>\n",
       "      <td>1998.0</td>\n",
       "      <td>94.193812</td>\n",
       "    </tr>\n",
       "    <tr>\n",
       "      <th>2</th>\n",
       "      <td>Brazil</td>\n",
       "      <td>1999.0</td>\n",
       "      <td>94.762960</td>\n",
       "    </tr>\n",
       "    <tr>\n",
       "      <th>3</th>\n",
       "      <td>Brazil</td>\n",
       "      <td>2000.0</td>\n",
       "      <td>94.466568</td>\n",
       "    </tr>\n",
       "    <tr>\n",
       "      <th>4</th>\n",
       "      <td>Brazil</td>\n",
       "      <td>2001.0</td>\n",
       "      <td>96.016528</td>\n",
       "    </tr>\n",
       "  </tbody>\n",
       "</table>\n",
       "</div>"
      ],
      "text/plain": [
       "  Nome do país     Ano  Acesso à eletricidade (%)\n",
       "0       Brazil  1997.0                  93.354139\n",
       "1       Brazil  1998.0                  94.193812\n",
       "2       Brazil  1999.0                  94.762960\n",
       "3       Brazil  2000.0                  94.466568\n",
       "4       Brazil  2001.0                  96.016528"
      ]
     },
     "execution_count": 776,
     "metadata": {},
     "output_type": "execute_result"
    }
   ],
   "source": [
    "df = df[['Country Name', 'Time', 'Access to electricity (% of total population) [1.1_ACCESS.ELECTRICITY.TOT]']]\n",
    "df = df.rename({'Country Name' : 'Nome do país', 'Time' : 'Ano', 'Access to electricity (% of total population) [1.1_ACCESS.ELECTRICITY.TOT]' : 'Acesso à eletricidade (%)'}, axis='columns')\n",
    "df.head()"
   ]
  },
  {
   "cell_type": "code",
   "execution_count": 777,
   "metadata": {},
   "outputs": [],
   "source": [
    "df_bra = df.iloc[range(0,20)]\n",
    "df_ger = df.iloc[range(20,40)]\n",
    "df_moz = df.iloc[range(40,60)]\n"
   ]
  },
  {
   "cell_type": "code",
   "execution_count": 778,
   "metadata": {},
   "outputs": [],
   "source": [
    "df_bra = df_bra[['Ano', 'Acesso à eletricidade (%)']]\n",
    "df_bra = df_bra.rename({'Acesso à eletricidade (%)' : 'Acesso à eletricidade no Brasil (%)'}, axis='columns')\n",
    "\n",
    "df_ger = df_ger[['Ano', 'Acesso à eletricidade (%)']]\n",
    "df_ger = df_ger.rename({'Acesso à eletricidade (%)' : 'Acesso à eletricidade na Alemanha (%)'}, axis='columns')\n",
    "\n",
    "df_moz = df_moz[['Ano', 'Acesso à eletricidade (%)']]\n",
    "df_moz = df_moz.rename({'Acesso à eletricidade (%)' : 'Acesso à eletricidade em Moçambique (%)'}, axis='columns')"
   ]
  },
  {
   "cell_type": "code",
   "execution_count": 779,
   "metadata": {},
   "outputs": [
    {
     "data": {
      "text/html": [
       "<div>\n",
       "<style scoped>\n",
       "    .dataframe tbody tr th:only-of-type {\n",
       "        vertical-align: middle;\n",
       "    }\n",
       "\n",
       "    .dataframe tbody tr th {\n",
       "        vertical-align: top;\n",
       "    }\n",
       "\n",
       "    .dataframe thead th {\n",
       "        text-align: right;\n",
       "    }\n",
       "</style>\n",
       "<table border=\"1\" class=\"dataframe\">\n",
       "  <thead>\n",
       "    <tr style=\"text-align: right;\">\n",
       "      <th></th>\n",
       "      <th>Ano</th>\n",
       "      <th>Acesso à eletricidade no Brasil (%)</th>\n",
       "      <th>Acesso à eletricidade na Alemanha (%)</th>\n",
       "      <th>Acesso à eletricidade em Moçambique (%)</th>\n",
       "    </tr>\n",
       "  </thead>\n",
       "  <tbody>\n",
       "    <tr>\n",
       "      <th>0</th>\n",
       "      <td>1997.0</td>\n",
       "      <td>93.354139</td>\n",
       "      <td>100.0</td>\n",
       "      <td>6.600000</td>\n",
       "    </tr>\n",
       "    <tr>\n",
       "      <th>1</th>\n",
       "      <td>1998.0</td>\n",
       "      <td>94.193812</td>\n",
       "      <td>100.0</td>\n",
       "      <td>4.548946</td>\n",
       "    </tr>\n",
       "    <tr>\n",
       "      <th>2</th>\n",
       "      <td>1999.0</td>\n",
       "      <td>94.762960</td>\n",
       "      <td>100.0</td>\n",
       "      <td>5.633479</td>\n",
       "    </tr>\n",
       "    <tr>\n",
       "      <th>3</th>\n",
       "      <td>2000.0</td>\n",
       "      <td>94.466568</td>\n",
       "      <td>100.0</td>\n",
       "      <td>6.695059</td>\n",
       "    </tr>\n",
       "    <tr>\n",
       "      <th>4</th>\n",
       "      <td>2001.0</td>\n",
       "      <td>96.016528</td>\n",
       "      <td>100.0</td>\n",
       "      <td>5.700000</td>\n",
       "    </tr>\n",
       "  </tbody>\n",
       "</table>\n",
       "</div>"
      ],
      "text/plain": [
       "      Ano  Acesso à eletricidade no Brasil (%)  \\\n",
       "0  1997.0                            93.354139   \n",
       "1  1998.0                            94.193812   \n",
       "2  1999.0                            94.762960   \n",
       "3  2000.0                            94.466568   \n",
       "4  2001.0                            96.016528   \n",
       "\n",
       "   Acesso à eletricidade na Alemanha (%)  \\\n",
       "0                                  100.0   \n",
       "1                                  100.0   \n",
       "2                                  100.0   \n",
       "3                                  100.0   \n",
       "4                                  100.0   \n",
       "\n",
       "   Acesso à eletricidade em Moçambique (%)  \n",
       "0                                 6.600000  \n",
       "1                                 4.548946  \n",
       "2                                 5.633479  \n",
       "3                                 6.695059  \n",
       "4                                 5.700000  "
      ]
     },
     "execution_count": 779,
     "metadata": {},
     "output_type": "execute_result"
    }
   ],
   "source": [
    "## https://stackoverflow.com/questions/23668427/pandas-three-way-joining-multiple-dataframes-on-columns\n",
    "df = df_bra.merge(df_ger,on='Ano').merge(df_moz,on='Ano')\n",
    "df.head()"
   ]
  },
  {
   "cell_type": "code",
   "execution_count": 780,
   "metadata": {},
   "outputs": [
    {
     "data": {
      "image/png": "[encoded data removed]",
      "text/plain": [
       "<Figure size 1600x700 with 1 Axes>"
      ]
     },
     "metadata": {},
     "output_type": "display_data"
    }
   ],
   "source": [
    "import matplotlib.pyplot as plt\n",
    "# import seaborn as sns\n",
    "\n",
    "plt.style.use('default')\n",
    "plt.figure(figsize=(16,7))\n",
    "\n",
    "plt.plot(df['Ano'], df['Acesso à eletricidade no Brasil (%)'])\n",
    "plt.plot(df['Ano'], df['Acesso à eletricidade na Alemanha (%)'])\n",
    "plt.plot(df['Ano'] ,df['Acesso à eletricidade em Moçambique (%)'])\n",
    "\n",
    "plt.xticks(df['Ano'])\n",
    "plt.legend(['Brasil', 'Alemanha', 'Moçambique'])\n",
    "plt.xlabel('Ano')\n",
    "plt.ylabel('% total da população')\n",
    "plt.title('Acesso à eletricidade')\n",
    "plt.xlabel('Anos')\n",
    "plt.show()"
   ]
  },
  {
   "cell_type": "code",
   "execution_count": 781,
   "metadata": {},
   "outputs": [
    {
     "data": {
      "text/html": [
       "<div>\n",
       "<style scoped>\n",
       "    .dataframe tbody tr th:only-of-type {\n",
       "        vertical-align: middle;\n",
       "    }\n",
       "\n",
       "    .dataframe tbody tr th {\n",
       "        vertical-align: top;\n",
       "    }\n",
       "\n",
       "    .dataframe thead th {\n",
       "        text-align: right;\n",
       "    }\n",
       "</style>\n",
       "<table border=\"1\" class=\"dataframe\">\n",
       "  <thead>\n",
       "    <tr style=\"text-align: right;\">\n",
       "      <th></th>\n",
       "      <th>Acesso à eletricidade no Brasil (%)</th>\n",
       "      <th>Acesso à eletricidade na Alemanha (%)</th>\n",
       "      <th>Acesso à eletricidade em Moçambique (%)</th>\n",
       "    </tr>\n",
       "    <tr>\n",
       "      <th>Ano</th>\n",
       "      <th></th>\n",
       "      <th></th>\n",
       "      <th></th>\n",
       "    </tr>\n",
       "  </thead>\n",
       "  <tbody>\n",
       "    <tr>\n",
       "      <th>1997.0</th>\n",
       "      <td>93.354139</td>\n",
       "      <td>100.0</td>\n",
       "      <td>6.600000</td>\n",
       "    </tr>\n",
       "    <tr>\n",
       "      <th>1998.0</th>\n",
       "      <td>94.193812</td>\n",
       "      <td>100.0</td>\n",
       "      <td>4.548946</td>\n",
       "    </tr>\n",
       "    <tr>\n",
       "      <th>1999.0</th>\n",
       "      <td>94.762960</td>\n",
       "      <td>100.0</td>\n",
       "      <td>5.633479</td>\n",
       "    </tr>\n",
       "    <tr>\n",
       "      <th>2000.0</th>\n",
       "      <td>94.466568</td>\n",
       "      <td>100.0</td>\n",
       "      <td>6.695059</td>\n",
       "    </tr>\n",
       "    <tr>\n",
       "      <th>2001.0</th>\n",
       "      <td>96.016528</td>\n",
       "      <td>100.0</td>\n",
       "      <td>5.700000</td>\n",
       "    </tr>\n",
       "  </tbody>\n",
       "</table>\n",
       "</div>"
      ],
      "text/plain": [
       "        Acesso à eletricidade no Brasil (%)  \\\n",
       "Ano                                           \n",
       "1997.0                            93.354139   \n",
       "1998.0                            94.193812   \n",
       "1999.0                            94.762960   \n",
       "2000.0                            94.466568   \n",
       "2001.0                            96.016528   \n",
       "\n",
       "        Acesso à eletricidade na Alemanha (%)  \\\n",
       "Ano                                             \n",
       "1997.0                                  100.0   \n",
       "1998.0                                  100.0   \n",
       "1999.0                                  100.0   \n",
       "2000.0                                  100.0   \n",
       "2001.0                                  100.0   \n",
       "\n",
       "        Acesso à eletricidade em Moçambique (%)  \n",
       "Ano                                              \n",
       "1997.0                                 6.600000  \n",
       "1998.0                                 4.548946  \n",
       "1999.0                                 5.633479  \n",
       "2000.0                                 6.695059  \n",
       "2001.0                                 5.700000  "
      ]
     },
     "execution_count": 781,
     "metadata": {},
     "output_type": "execute_result"
    }
   ],
   "source": [
    "df = df.set_index(df['Ano'])\n",
    "df = df[ ['Acesso à eletricidade no Brasil (%)', 'Acesso à eletricidade na Alemanha (%)', 'Acesso à eletricidade em Moçambique (%)'] ]\n",
    "df.head()"
   ]
  },
  {
   "cell_type": "markdown",
   "metadata": {},
   "source": [
    "## Parte 2: Correlações \n",
    "O indicador escolhido foi a mortalidade de crianças de até 5 anos. Como hipótese temos, que quanto maior o número de pessoas com acesso a eletricidade, memor será a taxa de mortalidade. \n"
   ]
  },
  {
   "cell_type": "code",
   "execution_count": 782,
   "metadata": {},
   "outputs": [
    {
     "data": {
      "text/html": [
       "<div>\n",
       "<style scoped>\n",
       "    .dataframe tbody tr th:only-of-type {\n",
       "        vertical-align: middle;\n",
       "    }\n",
       "\n",
       "    .dataframe tbody tr th {\n",
       "        vertical-align: top;\n",
       "    }\n",
       "\n",
       "    .dataframe thead th {\n",
       "        text-align: right;\n",
       "    }\n",
       "</style>\n",
       "<table border=\"1\" class=\"dataframe\">\n",
       "  <thead>\n",
       "    <tr style=\"text-align: right;\">\n",
       "      <th></th>\n",
       "      <th>Country Name</th>\n",
       "      <th>Country Code</th>\n",
       "      <th>Series Name</th>\n",
       "      <th>Series Code</th>\n",
       "      <th>2001 [YR2001]</th>\n",
       "      <th>2002 [YR2002]</th>\n",
       "      <th>2003 [YR2003]</th>\n",
       "      <th>2004 [YR2004]</th>\n",
       "      <th>2005 [YR2005]</th>\n",
       "      <th>2006 [YR2006]</th>\n",
       "      <th>...</th>\n",
       "      <th>2011 [YR2011]</th>\n",
       "      <th>2012 [YR2012]</th>\n",
       "      <th>2013 [YR2013]</th>\n",
       "      <th>2014 [YR2014]</th>\n",
       "      <th>2015 [YR2015]</th>\n",
       "      <th>2016 [YR2016]</th>\n",
       "      <th>2017 [YR2017]</th>\n",
       "      <th>2018 [YR2018]</th>\n",
       "      <th>2019 [YR2019]</th>\n",
       "      <th>2020 [YR2020]</th>\n",
       "    </tr>\n",
       "  </thead>\n",
       "  <tbody>\n",
       "    <tr>\n",
       "      <th>0</th>\n",
       "      <td>Brazil</td>\n",
       "      <td>BRA</td>\n",
       "      <td>Maternal mortality ratio (modeled estimate, pe...</td>\n",
       "      <td>SH.STA.MMRT</td>\n",
       "      <td>68</td>\n",
       "      <td>69</td>\n",
       "      <td>70</td>\n",
       "      <td>71</td>\n",
       "      <td>71</td>\n",
       "      <td>72</td>\n",
       "      <td>...</td>\n",
       "      <td>61</td>\n",
       "      <td>60</td>\n",
       "      <td>61</td>\n",
       "      <td>62</td>\n",
       "      <td>63</td>\n",
       "      <td>62</td>\n",
       "      <td>60</td>\n",
       "      <td>..</td>\n",
       "      <td>..</td>\n",
       "      <td>..</td>\n",
       "    </tr>\n",
       "    <tr>\n",
       "      <th>1</th>\n",
       "      <td>Brazil</td>\n",
       "      <td>BRA</td>\n",
       "      <td>Mortality rate, under-5 (per 1,000 live births)</td>\n",
       "      <td>SH.DYN.MORT</td>\n",
       "      <td>32.5</td>\n",
       "      <td>30.4</td>\n",
       "      <td>28.4</td>\n",
       "      <td>26.5</td>\n",
       "      <td>24.8</td>\n",
       "      <td>23.2</td>\n",
       "      <td>...</td>\n",
       "      <td>17.9</td>\n",
       "      <td>17.2</td>\n",
       "      <td>16.7</td>\n",
       "      <td>16.3</td>\n",
       "      <td>15.9</td>\n",
       "      <td>16.7</td>\n",
       "      <td>15.4</td>\n",
       "      <td>15.2</td>\n",
       "      <td>14.9</td>\n",
       "      <td>14.7</td>\n",
       "    </tr>\n",
       "    <tr>\n",
       "      <th>2</th>\n",
       "      <td>Brazil</td>\n",
       "      <td>BRA</td>\n",
       "      <td>Mortality rate, neonatal (per 1,000 live births)</td>\n",
       "      <td>SH.DYN.NMRT</td>\n",
       "      <td>17.6</td>\n",
       "      <td>16.7</td>\n",
       "      <td>15.8</td>\n",
       "      <td>15</td>\n",
       "      <td>14.2</td>\n",
       "      <td>13.5</td>\n",
       "      <td>...</td>\n",
       "      <td>10.7</td>\n",
       "      <td>10.3</td>\n",
       "      <td>10</td>\n",
       "      <td>9.7</td>\n",
       "      <td>9.5</td>\n",
       "      <td>10</td>\n",
       "      <td>9.3</td>\n",
       "      <td>9.2</td>\n",
       "      <td>8.9</td>\n",
       "      <td>8.7</td>\n",
       "    </tr>\n",
       "    <tr>\n",
       "      <th>3</th>\n",
       "      <td>Brazil</td>\n",
       "      <td>BRA</td>\n",
       "      <td>Number of people spending more than 10% of hou...</td>\n",
       "      <td>SH.UHC.OOPC.10.TO</td>\n",
       "      <td>..</td>\n",
       "      <td>..</td>\n",
       "      <td>..</td>\n",
       "      <td>..</td>\n",
       "      <td>..</td>\n",
       "      <td>..</td>\n",
       "      <td>...</td>\n",
       "      <td>..</td>\n",
       "      <td>..</td>\n",
       "      <td>..</td>\n",
       "      <td>..</td>\n",
       "      <td>..</td>\n",
       "      <td>..</td>\n",
       "      <td>..</td>\n",
       "      <td>..</td>\n",
       "      <td>..</td>\n",
       "      <td>..</td>\n",
       "    </tr>\n",
       "    <tr>\n",
       "      <th>4</th>\n",
       "      <td>Brazil</td>\n",
       "      <td>BRA</td>\n",
       "      <td>Proportion of population spending more than 10...</td>\n",
       "      <td>SH.UHC.OOPC.10.ZS</td>\n",
       "      <td>..</td>\n",
       "      <td>..</td>\n",
       "      <td>..</td>\n",
       "      <td>..</td>\n",
       "      <td>..</td>\n",
       "      <td>..</td>\n",
       "      <td>...</td>\n",
       "      <td>..</td>\n",
       "      <td>..</td>\n",
       "      <td>..</td>\n",
       "      <td>..</td>\n",
       "      <td>..</td>\n",
       "      <td>..</td>\n",
       "      <td>11.8118953704834</td>\n",
       "      <td>..</td>\n",
       "      <td>..</td>\n",
       "      <td>..</td>\n",
       "    </tr>\n",
       "  </tbody>\n",
       "</table>\n",
       "<p>5 rows × 24 columns</p>\n",
       "</div>"
      ],
      "text/plain": [
       "  Country Name Country Code  \\\n",
       "0       Brazil          BRA   \n",
       "1       Brazil          BRA   \n",
       "2       Brazil          BRA   \n",
       "3       Brazil          BRA   \n",
       "4       Brazil          BRA   \n",
       "\n",
       "                                         Series Name        Series Code  \\\n",
       "0  Maternal mortality ratio (modeled estimate, pe...        SH.STA.MMRT   \n",
       "1    Mortality rate, under-5 (per 1,000 live births)        SH.DYN.MORT   \n",
       "2   Mortality rate, neonatal (per 1,000 live births)        SH.DYN.NMRT   \n",
       "3  Number of people spending more than 10% of hou...  SH.UHC.OOPC.10.TO   \n",
       "4  Proportion of population spending more than 10...  SH.UHC.OOPC.10.ZS   \n",
       "\n",
       "  2001 [YR2001] 2002 [YR2002] 2003 [YR2003] 2004 [YR2004] 2005 [YR2005]  \\\n",
       "0            68            69            70            71            71   \n",
       "1          32.5          30.4          28.4          26.5          24.8   \n",
       "2          17.6          16.7          15.8            15          14.2   \n",
       "3            ..            ..            ..            ..            ..   \n",
       "4            ..            ..            ..            ..            ..   \n",
       "\n",
       "  2006 [YR2006]  ... 2011 [YR2011] 2012 [YR2012] 2013 [YR2013] 2014 [YR2014]  \\\n",
       "0            72  ...            61            60            61            62   \n",
       "1          23.2  ...          17.9          17.2          16.7          16.3   \n",
       "2          13.5  ...          10.7          10.3            10           9.7   \n",
       "3            ..  ...            ..            ..            ..            ..   \n",
       "4            ..  ...            ..            ..            ..            ..   \n",
       "\n",
       "  2015 [YR2015] 2016 [YR2016]     2017 [YR2017] 2018 [YR2018] 2019 [YR2019]  \\\n",
       "0            63            62                60            ..            ..   \n",
       "1          15.9          16.7              15.4          15.2          14.9   \n",
       "2           9.5            10               9.3           9.2           8.9   \n",
       "3            ..            ..                ..            ..            ..   \n",
       "4            ..            ..  11.8118953704834            ..            ..   \n",
       "\n",
       "  2020 [YR2020]  \n",
       "0            ..  \n",
       "1          14.7  \n",
       "2           8.7  \n",
       "3            ..  \n",
       "4            ..  \n",
       "\n",
       "[5 rows x 24 columns]"
      ]
     },
     "execution_count": 782,
     "metadata": {},
     "output_type": "execute_result"
    }
   ],
   "source": [
    "# APS_cdados_Insper\\dados\\Data_Extract_From_Sustainable_Development_Goals_(SDGs)\\e8792a52-f69a-48e7-a403-715479382981_Data.csv\n",
    "saude = pd.read_csv('dados/Data_Extract_From_Sustainable_Development_Goals_(SDGs)/'+ 'e8792a52-f69a-48e7-a403-715479382981_Data' +'.csv', sep=',', encoding='UTF-8', decimal='.', skiprows=0)\n",
    "saude.head()"
   ]
  },
  {
   "cell_type": "code",
   "execution_count": 783,
   "metadata": {},
   "outputs": [],
   "source": [
    "saude = saude[ saude['Series Name'] == 'Mortality rate, under-5 (per 1,000 live births)']\n",
    "saude_bra = saude[ saude['Country Name'] == 'Brazil' ]\n",
    "\n",
    "saude_ger = saude[ saude['Country Name'] == 'Germany' ]\n",
    "\n",
    "saude_moz = saude[ saude['Country Name'] == 'Mozambique' ]\n"
   ]
  },
  {
   "cell_type": "code",
   "execution_count": 784,
   "metadata": {},
   "outputs": [],
   "source": [
    "saude_bra = saude_bra.T\n",
    "saude_ger = saude_ger.T\n",
    "saude_moz = saude_moz.T\n",
    "\n"
   ]
  },
  {
   "cell_type": "code",
   "execution_count": 785,
   "metadata": {},
   "outputs": [],
   "source": [
    "saude_bra = saude_bra.iloc[4:]\n",
    "saude_ger = saude_ger.iloc[4:]\n",
    "saude_moz = saude_moz.iloc[4:]\n"
   ]
  },
  {
   "cell_type": "code",
   "execution_count": 786,
   "metadata": {},
   "outputs": [],
   "source": [
    "saude_bra = saude_bra.rename({1 : 'Taxa de mortalidade até 5 anos, no Brasil'}, axis='columns')\n",
    "saude_ger = saude_ger.rename({8 : 'Taxa de mortalidade até 5 anos, na Alemanha'}, axis='columns')\n",
    "saude_moz = saude_moz.rename({15 : 'Taxa de mortalidade até 5 anos, em Moçambique'}, axis='columns')\n"
   ]
  },
  {
   "cell_type": "code",
   "execution_count": 787,
   "metadata": {},
   "outputs": [
    {
     "data": {
      "text/html": [
       "<div>\n",
       "<style scoped>\n",
       "    .dataframe tbody tr th:only-of-type {\n",
       "        vertical-align: middle;\n",
       "    }\n",
       "\n",
       "    .dataframe tbody tr th {\n",
       "        vertical-align: top;\n",
       "    }\n",
       "\n",
       "    .dataframe thead th {\n",
       "        text-align: right;\n",
       "    }\n",
       "</style>\n",
       "<table border=\"1\" class=\"dataframe\">\n",
       "  <thead>\n",
       "    <tr style=\"text-align: right;\">\n",
       "      <th></th>\n",
       "      <th>Taxa de mortalidade até 5 anos, no Brasil</th>\n",
       "      <th>Taxa de mortalidade até 5 anos, na Alemanha</th>\n",
       "      <th>Taxa de mortalidade até 5 anos, em Moçambique</th>\n",
       "    </tr>\n",
       "  </thead>\n",
       "  <tbody>\n",
       "    <tr>\n",
       "      <th>2016 [YR2016]</th>\n",
       "      <td>16.7</td>\n",
       "      <td>3.9</td>\n",
       "      <td>80.4</td>\n",
       "    </tr>\n",
       "    <tr>\n",
       "      <th>2017 [YR2017]</th>\n",
       "      <td>15.4</td>\n",
       "      <td>3.9</td>\n",
       "      <td>78</td>\n",
       "    </tr>\n",
       "    <tr>\n",
       "      <th>2018 [YR2018]</th>\n",
       "      <td>15.2</td>\n",
       "      <td>3.8</td>\n",
       "      <td>75.6</td>\n",
       "    </tr>\n",
       "    <tr>\n",
       "      <th>2019 [YR2019]</th>\n",
       "      <td>14.9</td>\n",
       "      <td>3.7</td>\n",
       "      <td>72.9</td>\n",
       "    </tr>\n",
       "    <tr>\n",
       "      <th>2020 [YR2020]</th>\n",
       "      <td>14.7</td>\n",
       "      <td>3.7</td>\n",
       "      <td>70.6</td>\n",
       "    </tr>\n",
       "  </tbody>\n",
       "</table>\n",
       "</div>"
      ],
      "text/plain": [
       "              Taxa de mortalidade até 5 anos, no Brasil  \\\n",
       "2016 [YR2016]                                      16.7   \n",
       "2017 [YR2017]                                      15.4   \n",
       "2018 [YR2018]                                      15.2   \n",
       "2019 [YR2019]                                      14.9   \n",
       "2020 [YR2020]                                      14.7   \n",
       "\n",
       "              Taxa de mortalidade até 5 anos, na Alemanha  \\\n",
       "2016 [YR2016]                                         3.9   \n",
       "2017 [YR2017]                                         3.9   \n",
       "2018 [YR2018]                                         3.8   \n",
       "2019 [YR2019]                                         3.7   \n",
       "2020 [YR2020]                                         3.7   \n",
       "\n",
       "              Taxa de mortalidade até 5 anos, em Moçambique  \n",
       "2016 [YR2016]                                          80.4  \n",
       "2017 [YR2017]                                            78  \n",
       "2018 [YR2018]                                          75.6  \n",
       "2019 [YR2019]                                          72.9  \n",
       "2020 [YR2020]                                          70.6  "
      ]
     },
     "execution_count": 787,
     "metadata": {},
     "output_type": "execute_result"
    }
   ],
   "source": [
    "df_saude = pd.concat((saude_bra, saude_ger, saude_moz), join='outer', axis=1)\n",
    "\n",
    "df_saude.tail()"
   ]
  },
  {
   "cell_type": "code",
   "execution_count": 788,
   "metadata": {},
   "outputs": [
    {
     "data": {
      "text/html": [
       "<div>\n",
       "<style scoped>\n",
       "    .dataframe tbody tr th:only-of-type {\n",
       "        vertical-align: middle;\n",
       "    }\n",
       "\n",
       "    .dataframe tbody tr th {\n",
       "        vertical-align: top;\n",
       "    }\n",
       "\n",
       "    .dataframe thead th {\n",
       "        text-align: right;\n",
       "    }\n",
       "</style>\n",
       "<table border=\"1\" class=\"dataframe\">\n",
       "  <thead>\n",
       "    <tr style=\"text-align: right;\">\n",
       "      <th></th>\n",
       "      <th>Taxa de mortalidade até 5 anos, no Brasil</th>\n",
       "      <th>Taxa de mortalidade até 5 anos, na Alemanha</th>\n",
       "      <th>Taxa de mortalidade até 5 anos, em Moçambique</th>\n",
       "    </tr>\n",
       "  </thead>\n",
       "  <tbody>\n",
       "    <tr>\n",
       "      <th>2016</th>\n",
       "      <td>16.7</td>\n",
       "      <td>3.9</td>\n",
       "      <td>80.4</td>\n",
       "    </tr>\n",
       "    <tr>\n",
       "      <th>2017</th>\n",
       "      <td>15.4</td>\n",
       "      <td>3.9</td>\n",
       "      <td>78</td>\n",
       "    </tr>\n",
       "    <tr>\n",
       "      <th>2018</th>\n",
       "      <td>15.2</td>\n",
       "      <td>3.8</td>\n",
       "      <td>75.6</td>\n",
       "    </tr>\n",
       "    <tr>\n",
       "      <th>2019</th>\n",
       "      <td>14.9</td>\n",
       "      <td>3.7</td>\n",
       "      <td>72.9</td>\n",
       "    </tr>\n",
       "    <tr>\n",
       "      <th>2020</th>\n",
       "      <td>14.7</td>\n",
       "      <td>3.7</td>\n",
       "      <td>70.6</td>\n",
       "    </tr>\n",
       "  </tbody>\n",
       "</table>\n",
       "</div>"
      ],
      "text/plain": [
       "     Taxa de mortalidade até 5 anos, no Brasil  \\\n",
       "2016                                      16.7   \n",
       "2017                                      15.4   \n",
       "2018                                      15.2   \n",
       "2019                                      14.9   \n",
       "2020                                      14.7   \n",
       "\n",
       "     Taxa de mortalidade até 5 anos, na Alemanha  \\\n",
       "2016                                         3.9   \n",
       "2017                                         3.9   \n",
       "2018                                         3.8   \n",
       "2019                                         3.7   \n",
       "2020                                         3.7   \n",
       "\n",
       "     Taxa de mortalidade até 5 anos, em Moçambique  \n",
       "2016                                          80.4  \n",
       "2017                                            78  \n",
       "2018                                          75.6  \n",
       "2019                                          72.9  \n",
       "2020                                          70.6  "
      ]
     },
     "execution_count": 788,
     "metadata": {},
     "output_type": "execute_result"
    }
   ],
   "source": [
    "anos = pd.Series(list(range(2001, 2021)))\n",
    "df_saude = df_saude.set_index(anos)\n",
    "\n",
    "df_saude.tail()"
   ]
  },
  {
   "cell_type": "code",
   "execution_count": 789,
   "metadata": {},
   "outputs": [],
   "source": [
    "df_saude['Taxa de mortalidade até 5 anos, no Brasil'] = pd.to_numeric(df_saude['Taxa de mortalidade até 5 anos, no Brasil'])\n",
    "df_saude['Taxa de mortalidade até 5 anos, na Alemanha'] = pd.to_numeric(df_saude['Taxa de mortalidade até 5 anos, na Alemanha'])\n",
    "df_saude['Taxa de mortalidade até 5 anos, em Moçambique'] = pd.to_numeric(df_saude['Taxa de mortalidade até 5 anos, em Moçambique'])\n"
   ]
  },
  {
   "cell_type": "code",
   "execution_count": 790,
   "metadata": {},
   "outputs": [
    {
     "data": {
      "image/png": "[encoded data removed]",
      "text/plain": [
       "<Figure size 1600x700 with 1 Axes>"
      ]
     },
     "metadata": {},
     "output_type": "display_data"
    }
   ],
   "source": [
    "plt.style.use('default')\n",
    "plt.figure(figsize=(16,7))\n",
    "\n",
    "plt.plot(df_saude['Taxa de mortalidade até 5 anos, no Brasil'])\n",
    "plt.plot(df_saude['Taxa de mortalidade até 5 anos, na Alemanha'])\n",
    "plt.plot(df_saude['Taxa de mortalidade até 5 anos, em Moçambique'])\n",
    "\n",
    "plt.xticks(df_saude.index)\n",
    "plt.legend(['Brasil', 'Alemanha', 'Moçambique'])\n",
    "plt.xlabel('Ano')\n",
    "plt.ylabel('mortes (a cada 1000 nascimentos)')\n",
    "plt.title('Taxa de mortalidade de crianças até 5 anos')\n",
    "plt.show()"
   ]
  },
  {
   "cell_type": "markdown",
   "metadata": {},
   "source": [
    "### Comparação dos gráficos (da parte 1 e parte 2)"
   ]
  },
  {
   "cell_type": "code",
   "execution_count": 791,
   "metadata": {},
   "outputs": [
    {
     "data": {
      "image/png": "[encoded data removed]",
      "text/plain": [
       "<Figure size 1400x700 with 2 Axes>"
      ]
     },
     "metadata": {},
     "output_type": "display_data"
    }
   ],
   "source": [
    "plt.style.use('default')\n",
    "plt.figure(figsize=(14,7))\n",
    "anos_saude = list(range(2000, 2021, 2))\n",
    "anos_eletricidade = list(range(1997, 2017, 2))\n",
    "\n",
    "\n",
    "plt.subplot(1, 2, 1)\n",
    "\n",
    "plt.plot(df['Acesso à eletricidade no Brasil (%)'])\n",
    "plt.plot(df['Acesso à eletricidade na Alemanha (%)'])\n",
    "plt.plot(df['Acesso à eletricidade em Moçambique (%)'])\n",
    "\n",
    "plt.xticks(anos_eletricidade)\n",
    "plt.legend(['Brasil', 'Alemanha', 'Moçambique'])\n",
    "plt.xlabel('Ano')\n",
    "plt.ylabel('% total da população')\n",
    "plt.title('Acesso à eletricidade')\n",
    "plt.xlabel('Ano')\n",
    "\n",
    "plt.subplot(1, 2, 2)\n",
    "\n",
    "plt.plot(df_saude['Taxa de mortalidade até 5 anos, no Brasil'])\n",
    "plt.plot(df_saude['Taxa de mortalidade até 5 anos, na Alemanha'])\n",
    "plt.plot(df_saude['Taxa de mortalidade até 5 anos, em Moçambique'])\n",
    "\n",
    "plt.xticks(anos_saude)\n",
    "plt.legend(['Brasil', 'Alemanha', 'Moçambique'])\n",
    "plt.xlabel('Ano')\n",
    "plt.ylabel('mortes (a cada 1000 nascimentos)')\n",
    "plt.title('Taxa de mortalidade de crianças até 5 anos')\n",
    "\n",
    "plt.show()"
   ]
  },
  {
   "cell_type": "markdown",
   "metadata": {},
   "source": [
    "### Correlação e Covariância entre os dados"
   ]
  },
  {
   "cell_type": "code",
   "execution_count": 792,
   "metadata": {},
   "outputs": [
    {
     "data": {
      "text/html": [
       "<div>\n",
       "<style scoped>\n",
       "    .dataframe tbody tr th:only-of-type {\n",
       "        vertical-align: middle;\n",
       "    }\n",
       "\n",
       "    .dataframe tbody tr th {\n",
       "        vertical-align: top;\n",
       "    }\n",
       "\n",
       "    .dataframe thead th {\n",
       "        text-align: right;\n",
       "    }\n",
       "</style>\n",
       "<table border=\"1\" class=\"dataframe\">\n",
       "  <thead>\n",
       "    <tr style=\"text-align: right;\">\n",
       "      <th></th>\n",
       "      <th>Acesso à eletricidade na Alemanha (%)</th>\n",
       "      <th>Taxa de mortalidade até 5 anos, na Alemanha</th>\n",
       "    </tr>\n",
       "  </thead>\n",
       "  <tbody>\n",
       "    <tr>\n",
       "      <th>2001.0</th>\n",
       "      <td>100.0</td>\n",
       "      <td>5.2</td>\n",
       "    </tr>\n",
       "    <tr>\n",
       "      <th>2002.0</th>\n",
       "      <td>100.0</td>\n",
       "      <td>5.1</td>\n",
       "    </tr>\n",
       "    <tr>\n",
       "      <th>2003.0</th>\n",
       "      <td>100.0</td>\n",
       "      <td>5.0</td>\n",
       "    </tr>\n",
       "    <tr>\n",
       "      <th>2004.0</th>\n",
       "      <td>100.0</td>\n",
       "      <td>4.9</td>\n",
       "    </tr>\n",
       "    <tr>\n",
       "      <th>2005.0</th>\n",
       "      <td>100.0</td>\n",
       "      <td>4.7</td>\n",
       "    </tr>\n",
       "  </tbody>\n",
       "</table>\n",
       "</div>"
      ],
      "text/plain": [
       "        Acesso à eletricidade na Alemanha (%)  \\\n",
       "2001.0                                  100.0   \n",
       "2002.0                                  100.0   \n",
       "2003.0                                  100.0   \n",
       "2004.0                                  100.0   \n",
       "2005.0                                  100.0   \n",
       "\n",
       "        Taxa de mortalidade até 5 anos, na Alemanha  \n",
       "2001.0                                          5.2  \n",
       "2002.0                                          5.1  \n",
       "2003.0                                          5.0  \n",
       "2004.0                                          4.9  \n",
       "2005.0                                          4.7  "
      ]
     },
     "execution_count": 792,
     "metadata": {},
     "output_type": "execute_result"
    }
   ],
   "source": [
    "df_cor_moz = pd.concat( (df['Acesso à eletricidade em Moçambique (%)'], df_saude['Taxa de mortalidade até 5 anos, em Moçambique']), join='inner', axis = 1)\n",
    "df_cor_bra = pd.concat( (df['Acesso à eletricidade no Brasil (%)'], df_saude['Taxa de mortalidade até 5 anos, no Brasil']), join='inner', axis = 1)\n",
    "df_cor_ger = pd.concat( (df['Acesso à eletricidade na Alemanha (%)'], df_saude['Taxa de mortalidade até 5 anos, na Alemanha']), join='inner', axis = 1)\n",
    "\n",
    "df_cor_ger.head()\n",
    "# sda_ = pd.concat((sda1, sda2), join='outer', axis=1)\n",
    "# sda_.head()\n"
   ]
  },
  {
   "cell_type": "markdown",
   "metadata": {},
   "source": [
    "##### Correlação e covariância em Moçambique"
   ]
  },
  {
   "cell_type": "code",
   "execution_count": 793,
   "metadata": {},
   "outputs": [
    {
     "data": {
      "text/html": [
       "<div>\n",
       "<style scoped>\n",
       "    .dataframe tbody tr th:only-of-type {\n",
       "        vertical-align: middle;\n",
       "    }\n",
       "\n",
       "    .dataframe tbody tr th {\n",
       "        vertical-align: top;\n",
       "    }\n",
       "\n",
       "    .dataframe thead th {\n",
       "        text-align: right;\n",
       "    }\n",
       "</style>\n",
       "<table border=\"1\" class=\"dataframe\">\n",
       "  <thead>\n",
       "    <tr style=\"text-align: right;\">\n",
       "      <th></th>\n",
       "      <th>Acesso à eletricidade em Moçambique (%)</th>\n",
       "      <th>Taxa de mortalidade até 5 anos, em Moçambique</th>\n",
       "    </tr>\n",
       "  </thead>\n",
       "  <tbody>\n",
       "    <tr>\n",
       "      <th>Acesso à eletricidade em Moçambique (%)</th>\n",
       "      <td>1.000000</td>\n",
       "      <td>-0.978918</td>\n",
       "    </tr>\n",
       "    <tr>\n",
       "      <th>Taxa de mortalidade até 5 anos, em Moçambique</th>\n",
       "      <td>-0.978918</td>\n",
       "      <td>1.000000</td>\n",
       "    </tr>\n",
       "  </tbody>\n",
       "</table>\n",
       "</div>"
      ],
      "text/plain": [
       "                                               Acesso à eletricidade em Moçambique (%)  \\\n",
       "Acesso à eletricidade em Moçambique (%)                                       1.000000   \n",
       "Taxa de mortalidade até 5 anos, em Moçambique                                -0.978918   \n",
       "\n",
       "                                               Taxa de mortalidade até 5 anos, em Moçambique  \n",
       "Acesso à eletricidade em Moçambique (%)                                            -0.978918  \n",
       "Taxa de mortalidade até 5 anos, em Moçambique                                       1.000000  "
      ]
     },
     "execution_count": 793,
     "metadata": {},
     "output_type": "execute_result"
    }
   ],
   "source": [
    "## correlação\n",
    "corr_moz = df_cor_moz.corr()\n",
    "corr_moz"
   ]
  },
  {
   "cell_type": "code",
   "execution_count": 794,
   "metadata": {},
   "outputs": [
    {
     "data": {
      "text/html": [
       "<div>\n",
       "<style scoped>\n",
       "    .dataframe tbody tr th:only-of-type {\n",
       "        vertical-align: middle;\n",
       "    }\n",
       "\n",
       "    .dataframe tbody tr th {\n",
       "        vertical-align: top;\n",
       "    }\n",
       "\n",
       "    .dataframe thead th {\n",
       "        text-align: right;\n",
       "    }\n",
       "</style>\n",
       "<table border=\"1\" class=\"dataframe\">\n",
       "  <thead>\n",
       "    <tr style=\"text-align: right;\">\n",
       "      <th></th>\n",
       "      <th>Acesso à eletricidade em Moçambique (%)</th>\n",
       "      <th>Taxa de mortalidade até 5 anos, em Moçambique</th>\n",
       "    </tr>\n",
       "  </thead>\n",
       "  <tbody>\n",
       "    <tr>\n",
       "      <th>Acesso à eletricidade em Moçambique (%)</th>\n",
       "      <td>33.435441</td>\n",
       "      <td>-142.477401</td>\n",
       "    </tr>\n",
       "    <tr>\n",
       "      <th>Taxa de mortalidade até 5 anos, em Moçambique</th>\n",
       "      <td>-142.477401</td>\n",
       "      <td>633.566667</td>\n",
       "    </tr>\n",
       "  </tbody>\n",
       "</table>\n",
       "</div>"
      ],
      "text/plain": [
       "                                               Acesso à eletricidade em Moçambique (%)  \\\n",
       "Acesso à eletricidade em Moçambique (%)                                      33.435441   \n",
       "Taxa de mortalidade até 5 anos, em Moçambique                              -142.477401   \n",
       "\n",
       "                                               Taxa de mortalidade até 5 anos, em Moçambique  \n",
       "Acesso à eletricidade em Moçambique (%)                                          -142.477401  \n",
       "Taxa de mortalidade até 5 anos, em Moçambique                                     633.566667  "
      ]
     },
     "execution_count": 794,
     "metadata": {},
     "output_type": "execute_result"
    }
   ],
   "source": [
    "## covariância\n",
    "cov_moz = df_cor_moz.cov()\n",
    "cov_moz"
   ]
  },
  {
   "cell_type": "markdown",
   "metadata": {},
   "source": [
    "##### Correlação e covariância no Brasil"
   ]
  },
  {
   "cell_type": "code",
   "execution_count": 795,
   "metadata": {},
   "outputs": [
    {
     "data": {
      "text/html": [
       "<div>\n",
       "<style scoped>\n",
       "    .dataframe tbody tr th:only-of-type {\n",
       "        vertical-align: middle;\n",
       "    }\n",
       "\n",
       "    .dataframe tbody tr th {\n",
       "        vertical-align: top;\n",
       "    }\n",
       "\n",
       "    .dataframe thead th {\n",
       "        text-align: right;\n",
       "    }\n",
       "</style>\n",
       "<table border=\"1\" class=\"dataframe\">\n",
       "  <thead>\n",
       "    <tr style=\"text-align: right;\">\n",
       "      <th></th>\n",
       "      <th>Acesso à eletricidade no Brasil (%)</th>\n",
       "      <th>Taxa de mortalidade até 5 anos, no Brasil</th>\n",
       "    </tr>\n",
       "  </thead>\n",
       "  <tbody>\n",
       "    <tr>\n",
       "      <th>Acesso à eletricidade no Brasil (%)</th>\n",
       "      <td>1.00000</td>\n",
       "      <td>-0.97667</td>\n",
       "    </tr>\n",
       "    <tr>\n",
       "      <th>Taxa de mortalidade até 5 anos, no Brasil</th>\n",
       "      <td>-0.97667</td>\n",
       "      <td>1.00000</td>\n",
       "    </tr>\n",
       "  </tbody>\n",
       "</table>\n",
       "</div>"
      ],
      "text/plain": [
       "                                           Acesso à eletricidade no Brasil (%)  \\\n",
       "Acesso à eletricidade no Brasil (%)                                    1.00000   \n",
       "Taxa de mortalidade até 5 anos, no Brasil                             -0.97667   \n",
       "\n",
       "                                           Taxa de mortalidade até 5 anos, no Brasil  \n",
       "Acesso à eletricidade no Brasil (%)                                         -0.97667  \n",
       "Taxa de mortalidade até 5 anos, no Brasil                                    1.00000  "
      ]
     },
     "execution_count": 795,
     "metadata": {},
     "output_type": "execute_result"
    }
   ],
   "source": [
    "corr_bra = df_cor_bra.corr()\n",
    "corr_bra"
   ]
  },
  {
   "cell_type": "code",
   "execution_count": 796,
   "metadata": {},
   "outputs": [
    {
     "data": {
      "text/html": [
       "<div>\n",
       "<style scoped>\n",
       "    .dataframe tbody tr th:only-of-type {\n",
       "        vertical-align: middle;\n",
       "    }\n",
       "\n",
       "    .dataframe tbody tr th {\n",
       "        vertical-align: top;\n",
       "    }\n",
       "\n",
       "    .dataframe thead th {\n",
       "        text-align: right;\n",
       "    }\n",
       "</style>\n",
       "<table border=\"1\" class=\"dataframe\">\n",
       "  <thead>\n",
       "    <tr style=\"text-align: right;\">\n",
       "      <th></th>\n",
       "      <th>Acesso à eletricidade no Brasil (%)</th>\n",
       "      <th>Taxa de mortalidade até 5 anos, no Brasil</th>\n",
       "    </tr>\n",
       "  </thead>\n",
       "  <tbody>\n",
       "    <tr>\n",
       "      <th>Acesso à eletricidade no Brasil (%)</th>\n",
       "      <td>1.704756</td>\n",
       "      <td>-6.869365</td>\n",
       "    </tr>\n",
       "    <tr>\n",
       "      <th>Taxa de mortalidade até 5 anos, no Brasil</th>\n",
       "      <td>-6.869365</td>\n",
       "      <td>29.018500</td>\n",
       "    </tr>\n",
       "  </tbody>\n",
       "</table>\n",
       "</div>"
      ],
      "text/plain": [
       "                                           Acesso à eletricidade no Brasil (%)  \\\n",
       "Acesso à eletricidade no Brasil (%)                                   1.704756   \n",
       "Taxa de mortalidade até 5 anos, no Brasil                            -6.869365   \n",
       "\n",
       "                                           Taxa de mortalidade até 5 anos, no Brasil  \n",
       "Acesso à eletricidade no Brasil (%)                                        -6.869365  \n",
       "Taxa de mortalidade até 5 anos, no Brasil                                  29.018500  "
      ]
     },
     "execution_count": 796,
     "metadata": {},
     "output_type": "execute_result"
    }
   ],
   "source": [
    "cov_bra = df_cor_bra.cov()\n",
    "cov_bra"
   ]
  },
  {
   "cell_type": "markdown",
   "metadata": {},
   "source": [
    "##### Correlação e covariância na Alemanha"
   ]
  },
  {
   "cell_type": "code",
   "execution_count": 797,
   "metadata": {},
   "outputs": [
    {
     "data": {
      "text/html": [
       "<div>\n",
       "<style scoped>\n",
       "    .dataframe tbody tr th:only-of-type {\n",
       "        vertical-align: middle;\n",
       "    }\n",
       "\n",
       "    .dataframe tbody tr th {\n",
       "        vertical-align: top;\n",
       "    }\n",
       "\n",
       "    .dataframe thead th {\n",
       "        text-align: right;\n",
       "    }\n",
       "</style>\n",
       "<table border=\"1\" class=\"dataframe\">\n",
       "  <thead>\n",
       "    <tr style=\"text-align: right;\">\n",
       "      <th></th>\n",
       "      <th>Acesso à eletricidade na Alemanha (%)</th>\n",
       "      <th>Taxa de mortalidade até 5 anos, na Alemanha</th>\n",
       "    </tr>\n",
       "  </thead>\n",
       "  <tbody>\n",
       "    <tr>\n",
       "      <th>Acesso à eletricidade na Alemanha (%)</th>\n",
       "      <td>NaN</td>\n",
       "      <td>NaN</td>\n",
       "    </tr>\n",
       "    <tr>\n",
       "      <th>Taxa de mortalidade até 5 anos, na Alemanha</th>\n",
       "      <td>NaN</td>\n",
       "      <td>1.0</td>\n",
       "    </tr>\n",
       "  </tbody>\n",
       "</table>\n",
       "</div>"
      ],
      "text/plain": [
       "                                             Acesso à eletricidade na Alemanha (%)  \\\n",
       "Acesso à eletricidade na Alemanha (%)                                          NaN   \n",
       "Taxa de mortalidade até 5 anos, na Alemanha                                    NaN   \n",
       "\n",
       "                                             Taxa de mortalidade até 5 anos, na Alemanha  \n",
       "Acesso à eletricidade na Alemanha (%)                                                NaN  \n",
       "Taxa de mortalidade até 5 anos, na Alemanha                                          1.0  "
      ]
     },
     "execution_count": 797,
     "metadata": {},
     "output_type": "execute_result"
    }
   ],
   "source": [
    "corr_ger = df_cor_ger.corr()\n",
    "corr_ger"
   ]
  },
  {
   "cell_type": "code",
   "execution_count": 798,
   "metadata": {},
   "outputs": [
    {
     "data": {
      "text/html": [
       "<div>\n",
       "<style scoped>\n",
       "    .dataframe tbody tr th:only-of-type {\n",
       "        vertical-align: middle;\n",
       "    }\n",
       "\n",
       "    .dataframe tbody tr th {\n",
       "        vertical-align: top;\n",
       "    }\n",
       "\n",
       "    .dataframe thead th {\n",
       "        text-align: right;\n",
       "    }\n",
       "</style>\n",
       "<table border=\"1\" class=\"dataframe\">\n",
       "  <thead>\n",
       "    <tr style=\"text-align: right;\">\n",
       "      <th></th>\n",
       "      <th>Acesso à eletricidade na Alemanha (%)</th>\n",
       "      <th>Taxa de mortalidade até 5 anos, na Alemanha</th>\n",
       "    </tr>\n",
       "  </thead>\n",
       "  <tbody>\n",
       "    <tr>\n",
       "      <th>Acesso à eletricidade na Alemanha (%)</th>\n",
       "      <td>0.0</td>\n",
       "      <td>0.000000</td>\n",
       "    </tr>\n",
       "    <tr>\n",
       "      <th>Taxa de mortalidade até 5 anos, na Alemanha</th>\n",
       "      <td>0.0</td>\n",
       "      <td>0.199333</td>\n",
       "    </tr>\n",
       "  </tbody>\n",
       "</table>\n",
       "</div>"
      ],
      "text/plain": [
       "                                             Acesso à eletricidade na Alemanha (%)  \\\n",
       "Acesso à eletricidade na Alemanha (%)                                          0.0   \n",
       "Taxa de mortalidade até 5 anos, na Alemanha                                    0.0   \n",
       "\n",
       "                                             Taxa de mortalidade até 5 anos, na Alemanha  \n",
       "Acesso à eletricidade na Alemanha (%)                                           0.000000  \n",
       "Taxa de mortalidade até 5 anos, na Alemanha                                     0.199333  "
      ]
     },
     "execution_count": 798,
     "metadata": {},
     "output_type": "execute_result"
    }
   ],
   "source": [
    "cov_ger = df_cor_ger.cov()\n",
    "cov_ger"
   ]
  },
  {
   "cell_type": "markdown",
   "metadata": {},
   "source": [
    "Espera-se que os dois indicadores estejam relacionados, uma vez que a falta de acesso a energia podem causar problemas a saúde, desde o armazenamento de alimentos refrigerados, até uso de fogão a lenha, que de acordo com a ONU, leva a milhões de mortes por ano devido a produção de fumaça. Podemos ter como exemplo concreto, o projeto de lei que foi aprovado (Projeto de Lei 3579/20), que diz que a inclusão do acesso à energia elétrica como item fundamental para promoção da saúde. E apresentam que a falta de energia, leva ao uso de fontes de energia poluentes, que causam e agravam doenças respiratórias, além da liberação de gases que promovem a liberação de gases do efeito estufa.  \n",
    "\n",
    "Ao analisar a correlação entre os indicadores, os valores apresentados indicam forte correlação inversa, ou seja, os dois estão próximos de um comportamento inversamente proporcional no período considerado, para Moçambique e Brasil (correlção de -0,97). Por outro lado, não foi possível determinar a correlação no caso da Alemanha, tendo em vista que o acesso a energia elétrica não variou durante todo o período considerado (manteve-se em 100%). Isso indica que investimento em infraestrutura (como políticas de acesso a energia elétrica) podem ser efetivas para diminuição da mortalidade infantil em Moçambique e até no Brasil, porém o mesmo não é válido para Alemanha. Desse modo, uma hipótese que pode ser levantada é que, em países em desenvolvimento, a falta de infraestrutura pode ser um fator relevante na taxa de mortalidade, porém, nos países desenvolvidos, investimentos em infraestrutura tem influência irrisória na taxa de mortalidade.\n",
    "\n",
    "\n",
    "Referência bibliográfica\n",
    "- https://brasil.un.org/pt-br/130381-acesso-eletricidade-avanca-mas-desigualdade-ainda-e-obstaculo-para-cumprir-meta-de-energia\n",
    "- https://www.camara.leg.br/noticias/809883-comissao-aprova-inclusao-do-acesso-a-energia-eletrica-como-item-fundamental-para-promocao-da-saude/"
   ]
  },
  {
   "cell_type": "markdown",
   "metadata": {},
   "source": [
    "Modificação feitas na entrega anterior:\n",
    "\n",
    "\n",
    "- Nomes nos eixos:\t\n",
    "Título adicionado aos eixos, bem como adequação do título do gráfico para evitar redundância."
   ]
  },
  {
   "cell_type": "markdown",
   "metadata": {},
   "source": [
    "## Parte 3: Distribuições\n",
    "#### Enunciado\n",
    "Desde o começo dos anos 1990, vários países têm se agrupado em blocos de interesse comum, como a União Européia e o Mercosul. Os blocos econômicos são grupos de países que decidem reduzir suas restrições para comércio, financiamento ou trânsito de pessoas entre si, numa tentativa de incentivar suas economias e ao mesmo tempo protegê-las de competições desiguais. Nesta etapa, faremos a análise de blocos econômicos frente aos indicadores que escolhemos.\n",
    "\n",
    "1. Escolha dois blocos econômicos (por exemplo, Mercosul, União Européia, BRICS, OPEP, etc.). Pesquise para entender quais foram os critérios para a criação do bloco (proximidade geográfica? Proximidade econômica? Proximidade cultural? Outro?) e quais foram as aberturas providas pelo bloco (isenção de impostos? trânsito de pessoas? acesso a financiamentos? outro?)\n",
    "2. Em cada um dos países dos blocos, verifique se deveriam ser classificados como “avançado” ou “atrasado” em relação ao indicador que você escolheu no ítem 1. Defina claramente qual foi seu critério para esta separação!\n",
    "3. Para cada bloco, estime a probabilidade de um país daquele bloco ser avançado, isto é, P(avançado|bloco).\n",
    "4. Usando o Teorema de Bayes, estime, para cada bloco, P(bloco|avançado).\n",
    "5. Projete um pequeno sistema que classifica países como participantes de algum bloco à partir da informação de eles serem avançados ou não no indicador que foi escolhido.\n",
    "6. Conclua: o indicador que você escolheu é um bom preditor para o bloco econômico?"
   ]
  },
  {
   "cell_type": "markdown",
   "metadata": {},
   "source": [
    "Os blocos econômicos escolhidos foram BRICS e OPEP.   \n",
    "   \n",
    "BRICS:   \n",
    "\tO BRICS é um bloco formado por países de economia emergente, símbolo de alteração no cenário geopolítico de domínio das nações do G7. O termo inicialmente nasceu do acrônimo BRIC (Brasil, Rússia, Índia e China) criado pelo banco Goldman Sachs em um estudo de 2001 intitulado \"Building Better Global Economic BRICs\". A partir desse ponto, os países do BRIC passaram a realizar reuniões estratégicas para estreitar laços políticos e econômicos, porém sem a realização de acordos de incentivos econômicos (como ocorre no Mercosul, EU, Nafta, entre outros), de modo que, não é considerado um bloco econômico. A partir de 2011 a África do Sul passou a fazer parte do bloco, passando ao termo BRICS como é conhecido hoje. \n",
    "\tApesar de não serem considerados um bloco econômico, os países apresentam grandes relações comerciais entre si, um exemplo é a relação de Brasil e China, pois a China é o maior parceiro comercial do Brasil. Outro ponto relevante são as medidas que o grupo de países performou nos últimos anos, como a criação de um contingente de reserva no valor de 100 bilhões de dólares ou mesmo o banco dos BRICS, a fim de manter a estabilidade econômica dos países do bloco.   \n",
    "\n",
    "OPEP:   \n",
    "\tA Organização dos Países Exportadores de Petróleo (OPEP) é uma organização intergovernamental de 13 nações, fundada em 15 de setembro de 1960 em Bagdá pelos cinco membros fundadores (Irã, Iraque, Kuwait, Arábia Saudita e Venezuela), com sede desde 1965 em Viena, na Áustria, com a finalidade de se opor aos interesses das empresas que dominavam o mercado, conhecidas como “Sete Irmãs” e exigiam cada vez mais uma redução no preço da comoditie. Em setembro de 2018, os então 14 países membros representavam 44% da produção global de petróleo e 81,5% das reservas de petróleo \"comprovadas\" do mundo, dando à OPEP uma grande influência nos preços globais de petróleo.[3]   \n",
    "A missão declarada da organização é coordenar e unificar as políticas de petróleo de seus países membros e garantir a estabilização dos mercados de petróleo. A atuação do bloco é semelhante à de um cartel a fim de reduzir a concorrência no mercado. Um exemplo recente dessa política foi a decisão do bloco de reduzir a produção de barris de petróleo (em 2 milhões de barris por dia), a fim de diminuir a oferta implicando no aumento dos preços. [4]   \n",
    "Fontes:    \n",
    "[1]https://pt.wikipedia.org/wiki/BRICS   \n",
    "[2]https://brasilescola.uol.com.br/geografia/bric.htm\n",
    "[3]https://pt.wikipedia.org/wiki/Organiza%C3%A7%C3%A3o_dos_Pa%C3%ADses_Exportadores_de_Petr%C3%B3leo\n",
    "[4]https://economia.uol.com.br/noticias/rfi/2022/10/05/opep-reduz-producao-de-petroleo-em-2-milhoes-de-barris-e-precos-devem-aumentar.htm\n"
   ]
  },
  {
   "cell_type": "markdown",
   "metadata": {},
   "source": [
    "Para determinar se o país está avançado em relação ao indicador em questão (acesso de eletricidade à população), foi realizada uma análise nos gráficos disponibilizados no world bank data, disponível em: https://datatopics.worldbank.org/sdgs/index.html. \n",
    "A primeira pesquisa foi a do gráfico com a média mundial, seguida de percentis definidos como \"Income groups\". A seguir estão disponilizados os gráficos utilizados na pesquisa.   \n",
    "\n",
    "![WORLD](imagens/acess_to_eletricity_worldVsBrazil.png)\n",
    "\n",
    "![IncomeGroups](imagens/acess_to_eletricity_incomeGroupsVsBrazil.png)   \n",
    "\n",
    "A partir da análise, pode-se perceber que há uma grande concentração de países com valores próximos de 100% de acesso a energia em 2020, tendo em vista que tanto o \"High Income\" está em 100% e o \"Upper middle Income\" em 99,37%. A comparação da média mundial com o \"Lower middle Income\", ambos com 90%, indica que a maior parte dos países tem uma porcentagem superior a 90%, implicando que os países com menores valores, os de \"Low Income\", apresentam valores tão discrepantes dos demais que intereferem de modo significativo na média. \n",
    "Outro fator de interesse foi a taxa de crescimento. Evidencia-se certa constância (gráficos com comportamento próximo do linear) nos gráficos apresentados. Caso a tendência de 2010 à 2020 se mantivesse os países do \"Lower middle income\" alcançariam os 100% antes de 2030 (em meados de 2026). Obviamente não é uma expectativa razoável, tendo em vista que a população remanescente sem acesso a energia (os últimos 10%) requisitarão maiores custos e apresentam menos interesse econômico por parte dos governos e empresas. Porém parece r\n",
    "Com essas informações em mente e levando em conta que, para que o objetivo 7 seja concretizado esse indicador (acesso a eletricidade) deve estar bem próximo de 100%, foi considerado que um país está avançado nesse indicador se apresentar um valor acima de 94%, tendo em vista que esses países apresentam boas perpectivas de alcançar o objetivo da ONU."
   ]
  },
  {
   "cell_type": "code",
   "execution_count": 799,
   "metadata": {},
   "outputs": [
    {
     "data": {
      "text/html": [
       "<div>\n",
       "<style scoped>\n",
       "    .dataframe tbody tr th:only-of-type {\n",
       "        vertical-align: middle;\n",
       "    }\n",
       "\n",
       "    .dataframe tbody tr th {\n",
       "        vertical-align: top;\n",
       "    }\n",
       "\n",
       "    .dataframe thead th {\n",
       "        text-align: right;\n",
       "    }\n",
       "</style>\n",
       "<table border=\"1\" class=\"dataframe\">\n",
       "  <thead>\n",
       "    <tr style=\"text-align: right;\">\n",
       "      <th></th>\n",
       "      <th>Nome do país</th>\n",
       "      <th>Country Code</th>\n",
       "      <th>Series Name</th>\n",
       "      <th>Series Code</th>\n",
       "      <th>2002</th>\n",
       "      <th>2003</th>\n",
       "      <th>2004</th>\n",
       "      <th>2005</th>\n",
       "      <th>2006</th>\n",
       "      <th>2007</th>\n",
       "      <th>...</th>\n",
       "      <th>2012</th>\n",
       "      <th>2013</th>\n",
       "      <th>2014</th>\n",
       "      <th>2015</th>\n",
       "      <th>2016</th>\n",
       "      <th>2017</th>\n",
       "      <th>2018</th>\n",
       "      <th>2019</th>\n",
       "      <th>2020</th>\n",
       "      <th>2021</th>\n",
       "    </tr>\n",
       "  </thead>\n",
       "  <tbody>\n",
       "    <tr>\n",
       "      <th>0</th>\n",
       "      <td>Brazil</td>\n",
       "      <td>BRA</td>\n",
       "      <td>Access to electricity (% of population)</td>\n",
       "      <td>EG.ELC.ACCS.ZS</td>\n",
       "      <td>96.652992</td>\n",
       "      <td>96.980095</td>\n",
       "      <td>96.765106</td>\n",
       "      <td>97.093513</td>\n",
       "      <td>97.594315</td>\n",
       "      <td>98.125381</td>\n",
       "      <td>...</td>\n",
       "      <td>99.519493</td>\n",
       "      <td>99.575150</td>\n",
       "      <td>99.650246</td>\n",
       "      <td>99.710899</td>\n",
       "      <td>99.699997</td>\n",
       "      <td>99.800003</td>\n",
       "      <td>99.699997</td>\n",
       "      <td>99.800003</td>\n",
       "      <td>100.000000</td>\n",
       "      <td>..</td>\n",
       "    </tr>\n",
       "    <tr>\n",
       "      <th>1</th>\n",
       "      <td>Brazil</td>\n",
       "      <td>BRA</td>\n",
       "      <td>Mortality rate, under-5 (per 1,000 live births)</td>\n",
       "      <td>SH.DYN.MORT</td>\n",
       "      <td>30.400000</td>\n",
       "      <td>28.400000</td>\n",
       "      <td>26.500000</td>\n",
       "      <td>24.800000</td>\n",
       "      <td>23.200000</td>\n",
       "      <td>21.800000</td>\n",
       "      <td>...</td>\n",
       "      <td>17.200000</td>\n",
       "      <td>16.700000</td>\n",
       "      <td>16.300000</td>\n",
       "      <td>15.900000</td>\n",
       "      <td>16.700000</td>\n",
       "      <td>15.400000</td>\n",
       "      <td>15.200000</td>\n",
       "      <td>14.900000</td>\n",
       "      <td>14.700000</td>\n",
       "      <td>..</td>\n",
       "    </tr>\n",
       "    <tr>\n",
       "      <th>2</th>\n",
       "      <td>Germany</td>\n",
       "      <td>DEU</td>\n",
       "      <td>Access to electricity (% of population)</td>\n",
       "      <td>EG.ELC.ACCS.ZS</td>\n",
       "      <td>100.000000</td>\n",
       "      <td>100.000000</td>\n",
       "      <td>100.000000</td>\n",
       "      <td>100.000000</td>\n",
       "      <td>100.000000</td>\n",
       "      <td>100.000000</td>\n",
       "      <td>...</td>\n",
       "      <td>100.000000</td>\n",
       "      <td>100.000000</td>\n",
       "      <td>100.000000</td>\n",
       "      <td>100.000000</td>\n",
       "      <td>100.000000</td>\n",
       "      <td>100.000000</td>\n",
       "      <td>100.000000</td>\n",
       "      <td>100.000000</td>\n",
       "      <td>100.000000</td>\n",
       "      <td>..</td>\n",
       "    </tr>\n",
       "    <tr>\n",
       "      <th>3</th>\n",
       "      <td>Germany</td>\n",
       "      <td>DEU</td>\n",
       "      <td>Mortality rate, under-5 (per 1,000 live births)</td>\n",
       "      <td>SH.DYN.MORT</td>\n",
       "      <td>5.100000</td>\n",
       "      <td>5.000000</td>\n",
       "      <td>4.900000</td>\n",
       "      <td>4.700000</td>\n",
       "      <td>4.600000</td>\n",
       "      <td>4.500000</td>\n",
       "      <td>...</td>\n",
       "      <td>4.000000</td>\n",
       "      <td>4.000000</td>\n",
       "      <td>4.000000</td>\n",
       "      <td>3.900000</td>\n",
       "      <td>3.900000</td>\n",
       "      <td>3.900000</td>\n",
       "      <td>3.800000</td>\n",
       "      <td>3.700000</td>\n",
       "      <td>3.700000</td>\n",
       "      <td>..</td>\n",
       "    </tr>\n",
       "    <tr>\n",
       "      <th>4</th>\n",
       "      <td>Mozambique</td>\n",
       "      <td>MOZ</td>\n",
       "      <td>Access to electricity (% of population)</td>\n",
       "      <td>EG.ELC.ACCS.ZS</td>\n",
       "      <td>8.443921</td>\n",
       "      <td>8.100000</td>\n",
       "      <td>10.770590</td>\n",
       "      <td>11.931945</td>\n",
       "      <td>13.095172</td>\n",
       "      <td>12.400000</td>\n",
       "      <td>...</td>\n",
       "      <td>21.232607</td>\n",
       "      <td>22.420128</td>\n",
       "      <td>24.799999</td>\n",
       "      <td>24.000000</td>\n",
       "      <td>26.246521</td>\n",
       "      <td>24.299999</td>\n",
       "      <td>31.100000</td>\n",
       "      <td>29.674450</td>\n",
       "      <td>30.603832</td>\n",
       "      <td>..</td>\n",
       "    </tr>\n",
       "  </tbody>\n",
       "</table>\n",
       "<p>5 rows × 24 columns</p>\n",
       "</div>"
      ],
      "text/plain": [
       "  Nome do país Country Code                                      Series Name  \\\n",
       "0       Brazil          BRA          Access to electricity (% of population)   \n",
       "1       Brazil          BRA  Mortality rate, under-5 (per 1,000 live births)   \n",
       "2      Germany          DEU          Access to electricity (% of population)   \n",
       "3      Germany          DEU  Mortality rate, under-5 (per 1,000 live births)   \n",
       "4   Mozambique          MOZ          Access to electricity (% of population)   \n",
       "\n",
       "      Series Code        2002        2003        2004        2005        2006  \\\n",
       "0  EG.ELC.ACCS.ZS   96.652992   96.980095   96.765106   97.093513   97.594315   \n",
       "1     SH.DYN.MORT   30.400000   28.400000   26.500000   24.800000   23.200000   \n",
       "2  EG.ELC.ACCS.ZS  100.000000  100.000000  100.000000  100.000000  100.000000   \n",
       "3     SH.DYN.MORT    5.100000    5.000000    4.900000    4.700000    4.600000   \n",
       "4  EG.ELC.ACCS.ZS    8.443921    8.100000   10.770590   11.931945   13.095172   \n",
       "\n",
       "         2007  ...        2012        2013        2014        2015  \\\n",
       "0   98.125381  ...   99.519493   99.575150   99.650246   99.710899   \n",
       "1   21.800000  ...   17.200000   16.700000   16.300000   15.900000   \n",
       "2  100.000000  ...  100.000000  100.000000  100.000000  100.000000   \n",
       "3    4.500000  ...    4.000000    4.000000    4.000000    3.900000   \n",
       "4   12.400000  ...   21.232607   22.420128   24.799999   24.000000   \n",
       "\n",
       "         2016        2017        2018        2019        2020  2021  \n",
       "0   99.699997   99.800003   99.699997   99.800003  100.000000    ..  \n",
       "1   16.700000   15.400000   15.200000   14.900000   14.700000    ..  \n",
       "2  100.000000  100.000000  100.000000  100.000000  100.000000    ..  \n",
       "3    3.900000    3.900000    3.800000    3.700000    3.700000    ..  \n",
       "4   26.246521   24.299999   31.100000   29.674450   30.603832    ..  \n",
       "\n",
       "[5 rows x 24 columns]"
      ]
     },
     "execution_count": 799,
     "metadata": {},
     "output_type": "execute_result"
    }
   ],
   "source": [
    "df = pd.read_csv('dados/parte3/Data_Extract_From_World_Development_Indicators/'+ '879dc548-ab69-4b4d-89bf-7c7ea032c3bd_Data' +'.csv', sep=',', encoding='UTF-8', decimal='.', skiprows=0)\n",
    "anos = {}\n",
    "for i in range(2002, 2022):\n",
    "    anos[f'{i} [YR{i}]'] = i\n",
    "df = df.rename({'Country Name' : 'Nome do país'}, axis='columns')\n",
    "df = df.rename(anos, axis='columns')\n",
    "df.head()"
   ]
  },
  {
   "cell_type": "code",
   "execution_count": 800,
   "metadata": {},
   "outputs": [],
   "source": [
    "df = df[ df['Series Name'] == 'Access to electricity (% of population)']\n",
    "anos = list(range(2002, 2021))\n",
    "anos = ['Nome do país'] + anos\n",
    "df = df[anos]\n",
    "\n",
    "lista_brics = ['Brazil', 'Russian Federation', 'India', 'China', 'South Africa' ]\n",
    "brics = df[ df['Nome do país'].isin(lista_brics) ]\n",
    "\n",
    "opep = df[ ~df['Nome do país'].isin(lista_brics + ['Germany', 'Mozambique'])]\n"
   ]
  },
  {
   "cell_type": "code",
   "execution_count": 801,
   "metadata": {},
   "outputs": [
    {
     "data": {
      "text/html": [
       "<div>\n",
       "<style scoped>\n",
       "    .dataframe tbody tr th:only-of-type {\n",
       "        vertical-align: middle;\n",
       "    }\n",
       "\n",
       "    .dataframe tbody tr th {\n",
       "        vertical-align: top;\n",
       "    }\n",
       "\n",
       "    .dataframe thead th {\n",
       "        text-align: right;\n",
       "    }\n",
       "</style>\n",
       "<table border=\"1\" class=\"dataframe\">\n",
       "  <thead>\n",
       "    <tr style=\"text-align: right;\">\n",
       "      <th></th>\n",
       "      <th>Nome do país</th>\n",
       "      <th>2002</th>\n",
       "      <th>2003</th>\n",
       "      <th>2004</th>\n",
       "      <th>2005</th>\n",
       "      <th>2006</th>\n",
       "      <th>2007</th>\n",
       "      <th>2008</th>\n",
       "      <th>2009</th>\n",
       "      <th>2010</th>\n",
       "      <th>2011</th>\n",
       "      <th>2012</th>\n",
       "      <th>2013</th>\n",
       "      <th>2014</th>\n",
       "      <th>2015</th>\n",
       "      <th>2016</th>\n",
       "      <th>2017</th>\n",
       "      <th>2018</th>\n",
       "      <th>2019</th>\n",
       "      <th>2020</th>\n",
       "    </tr>\n",
       "  </thead>\n",
       "  <tbody>\n",
       "    <tr>\n",
       "      <th>0</th>\n",
       "      <td>Brazil</td>\n",
       "      <td>96.652992</td>\n",
       "      <td>96.980095</td>\n",
       "      <td>96.765106</td>\n",
       "      <td>97.093513</td>\n",
       "      <td>97.594315</td>\n",
       "      <td>98.125381</td>\n",
       "      <td>98.526627</td>\n",
       "      <td>98.856941</td>\n",
       "      <td>98.599998</td>\n",
       "      <td>99.328690</td>\n",
       "      <td>99.519493</td>\n",
       "      <td>99.575150</td>\n",
       "      <td>99.650246</td>\n",
       "      <td>99.710899</td>\n",
       "      <td>99.699997</td>\n",
       "      <td>99.800003</td>\n",
       "      <td>99.699997</td>\n",
       "      <td>99.800003</td>\n",
       "      <td>100.000000</td>\n",
       "    </tr>\n",
       "    <tr>\n",
       "      <th>32</th>\n",
       "      <td>China</td>\n",
       "      <td>97.516205</td>\n",
       "      <td>97.754379</td>\n",
       "      <td>97.989670</td>\n",
       "      <td>98.224426</td>\n",
       "      <td>98.461052</td>\n",
       "      <td>98.702202</td>\n",
       "      <td>98.950577</td>\n",
       "      <td>99.208900</td>\n",
       "      <td>99.699997</td>\n",
       "      <td>99.848724</td>\n",
       "      <td>99.961929</td>\n",
       "      <td>99.996445</td>\n",
       "      <td>100.000000</td>\n",
       "      <td>100.000000</td>\n",
       "      <td>100.000000</td>\n",
       "      <td>100.000000</td>\n",
       "      <td>100.000000</td>\n",
       "      <td>100.000000</td>\n",
       "      <td>100.000000</td>\n",
       "    </tr>\n",
       "    <tr>\n",
       "      <th>34</th>\n",
       "      <td>India</td>\n",
       "      <td>62.299999</td>\n",
       "      <td>64.047485</td>\n",
       "      <td>64.400002</td>\n",
       "      <td>67.579811</td>\n",
       "      <td>67.900002</td>\n",
       "      <td>71.119865</td>\n",
       "      <td>72.899384</td>\n",
       "      <td>75.000000</td>\n",
       "      <td>76.300003</td>\n",
       "      <td>67.599998</td>\n",
       "      <td>79.900002</td>\n",
       "      <td>81.999329</td>\n",
       "      <td>83.872498</td>\n",
       "      <td>88.000000</td>\n",
       "      <td>89.217796</td>\n",
       "      <td>92.124947</td>\n",
       "      <td>95.699997</td>\n",
       "      <td>97.308266</td>\n",
       "      <td>99.000000</td>\n",
       "    </tr>\n",
       "    <tr>\n",
       "      <th>36</th>\n",
       "      <td>Russian Federation</td>\n",
       "      <td>100.000000</td>\n",
       "      <td>100.000000</td>\n",
       "      <td>100.000000</td>\n",
       "      <td>100.000000</td>\n",
       "      <td>100.000000</td>\n",
       "      <td>100.000000</td>\n",
       "      <td>100.000000</td>\n",
       "      <td>100.000000</td>\n",
       "      <td>100.000000</td>\n",
       "      <td>100.000000</td>\n",
       "      <td>100.000000</td>\n",
       "      <td>100.000000</td>\n",
       "      <td>100.000000</td>\n",
       "      <td>95.500000</td>\n",
       "      <td>100.000000</td>\n",
       "      <td>100.000000</td>\n",
       "      <td>100.000000</td>\n",
       "      <td>100.000000</td>\n",
       "      <td>100.000000</td>\n",
       "    </tr>\n",
       "    <tr>\n",
       "      <th>38</th>\n",
       "      <td>South Africa</td>\n",
       "      <td>76.699997</td>\n",
       "      <td>78.800003</td>\n",
       "      <td>80.900002</td>\n",
       "      <td>80.800003</td>\n",
       "      <td>80.699997</td>\n",
       "      <td>82.000000</td>\n",
       "      <td>81.900002</td>\n",
       "      <td>82.599998</td>\n",
       "      <td>82.900002</td>\n",
       "      <td>83.599998</td>\n",
       "      <td>85.300003</td>\n",
       "      <td>85.199997</td>\n",
       "      <td>85.900002</td>\n",
       "      <td>85.300003</td>\n",
       "      <td>83.900002</td>\n",
       "      <td>84.400002</td>\n",
       "      <td>84.699997</td>\n",
       "      <td>85.000000</td>\n",
       "      <td>84.385536</td>\n",
       "    </tr>\n",
       "  </tbody>\n",
       "</table>\n",
       "</div>"
      ],
      "text/plain": [
       "          Nome do país        2002        2003        2004        2005  \\\n",
       "0               Brazil   96.652992   96.980095   96.765106   97.093513   \n",
       "32               China   97.516205   97.754379   97.989670   98.224426   \n",
       "34               India   62.299999   64.047485   64.400002   67.579811   \n",
       "36  Russian Federation  100.000000  100.000000  100.000000  100.000000   \n",
       "38        South Africa   76.699997   78.800003   80.900002   80.800003   \n",
       "\n",
       "          2006        2007        2008        2009        2010        2011  \\\n",
       "0    97.594315   98.125381   98.526627   98.856941   98.599998   99.328690   \n",
       "32   98.461052   98.702202   98.950577   99.208900   99.699997   99.848724   \n",
       "34   67.900002   71.119865   72.899384   75.000000   76.300003   67.599998   \n",
       "36  100.000000  100.000000  100.000000  100.000000  100.000000  100.000000   \n",
       "38   80.699997   82.000000   81.900002   82.599998   82.900002   83.599998   \n",
       "\n",
       "          2012        2013        2014        2015        2016        2017  \\\n",
       "0    99.519493   99.575150   99.650246   99.710899   99.699997   99.800003   \n",
       "32   99.961929   99.996445  100.000000  100.000000  100.000000  100.000000   \n",
       "34   79.900002   81.999329   83.872498   88.000000   89.217796   92.124947   \n",
       "36  100.000000  100.000000  100.000000   95.500000  100.000000  100.000000   \n",
       "38   85.300003   85.199997   85.900002   85.300003   83.900002   84.400002   \n",
       "\n",
       "          2018        2019        2020  \n",
       "0    99.699997   99.800003  100.000000  \n",
       "32  100.000000  100.000000  100.000000  \n",
       "34   95.699997   97.308266   99.000000  \n",
       "36  100.000000  100.000000  100.000000  \n",
       "38   84.699997   85.000000   84.385536  "
      ]
     },
     "execution_count": 801,
     "metadata": {},
     "output_type": "execute_result"
    }
   ],
   "source": [
    "brics.head()"
   ]
  },
  {
   "cell_type": "code",
   "execution_count": 802,
   "metadata": {},
   "outputs": [],
   "source": [
    "brics = brics.set_index('Nome do país')\n",
    "opep = opep.set_index('Nome do país')\n"
   ]
  },
  {
   "cell_type": "code",
   "execution_count": 803,
   "metadata": {},
   "outputs": [],
   "source": [
    "brics = brics.transpose()\n",
    "opep = opep.transpose()\n"
   ]
  },
  {
   "cell_type": "markdown",
   "metadata": {},
   "source": [
    "Antes de realizar as análises, decidi plotar os gráficos, para buscar possíveis inconsistências (dados faltantes ou situações inesperadas) nos dados."
   ]
  },
  {
   "cell_type": "code",
   "execution_count": 804,
   "metadata": {},
   "outputs": [
    {
     "data": {
      "image/png": "[encoded data removed]",
      "text/plain": [
       "<Figure size 640x480 with 1 Axes>"
      ]
     },
     "metadata": {},
     "output_type": "display_data"
    }
   ],
   "source": [
    "plt.figure()\n",
    "plt.plot(brics)\n",
    "plt.legend(['Brasil', 'China', 'India', 'Russia', 'Africa do Sul'])\n",
    "plt.show()"
   ]
  },
  {
   "cell_type": "code",
   "execution_count": 805,
   "metadata": {},
   "outputs": [
    {
     "data": {
      "image/png": "[encoded data removed]",
      "text/plain": [
       "<Figure size 640x480 with 1 Axes>"
      ]
     },
     "metadata": {},
     "output_type": "display_data"
    }
   ],
   "source": [
    "plt.figure()\n",
    "plt.plot(opep)\n",
    "plt.legend(list(opep.columns))\n",
    "plt.show()"
   ]
  },
  {
   "cell_type": "code",
   "execution_count": null,
   "metadata": {},
   "outputs": [],
   "source": []
  },
  {
   "cell_type": "markdown",
   "metadata": {},
   "source": [
    "Considerando-se os dados de 2020, foram realizadas as análises de \"avançaddo\" ou não em relação ao indicador em questão \"Acesso à eletricidade\", com o critério de mais de 94% da população com acesso para estar qualificado como avançado.\n",
    "  "
   ]
  },
  {
   "cell_type": "code",
   "execution_count": 806,
   "metadata": {},
   "outputs": [],
   "source": [
    "brics2020 = list(brics.loc[2020])\n",
    "opep2020 = list(opep.loc[2020])"
   ]
  },
  {
   "cell_type": "code",
   "execution_count": 807,
   "metadata": {},
   "outputs": [],
   "source": [
    "opep_avan = [float(i) > 94.0 for i in opep2020]\n",
    "k_opep = opep_avan.count(True)\n",
    "n_opep = len(opep_avan)\n"
   ]
  },
  {
   "cell_type": "code",
   "execution_count": 808,
   "metadata": {},
   "outputs": [],
   "source": [
    "brics_avan = [float(i) > 94.0 for i in brics2020]\n",
    "k_brics = brics_avan.count(True)\n",
    "n_brics = len(brics_avan)"
   ]
  },
  {
   "cell_type": "code",
   "execution_count": 809,
   "metadata": {},
   "outputs": [],
   "source": [
    "n = (n_opep + n_brics)\n",
    "p_opep = n_opep/n\n",
    "p_brics = n_brics/n\n",
    "\n",
    "p_avan = (k_brics+k_opep)/n"
   ]
  },
  {
   "cell_type": "code",
   "execution_count": 810,
   "metadata": {},
   "outputs": [],
   "source": [
    "p_avan_opep = k_opep/n_opep\n",
    "p_opep_avan = p_avan_opep * p_opep / p_avan"
   ]
  },
  {
   "cell_type": "code",
   "execution_count": 811,
   "metadata": {},
   "outputs": [],
   "source": [
    "p_avan_brics = k_brics/n_brics\n",
    "p_brics_avan = p_avan_brics * p_brics / p_avan"
   ]
  },
  {
   "cell_type": "code",
   "execution_count": 812,
   "metadata": {},
   "outputs": [
    {
     "data": {
      "image/png": "[encoded data removed]",
      "text/plain": [
       "<Figure size 500x500 with 1 Axes>"
      ]
     },
     "metadata": {},
     "output_type": "display_data"
    }
   ],
   "source": [
    "import numpy as np\n",
    "## codigo adaptado de: https://www.geeksforgeeks.org/bar-plot-in-matplotlib/\n",
    "N = 2\n",
    "avan_plot = (k_opep/n_opep, k_brics/n_brics)\n",
    "n_avan_plot = ((n_opep - k_opep)/(n_opep), (n_brics - k_brics)/(n_brics))\n",
    "# brics_plot = (k_brics, n_brics - k_brics)\n",
    "# opep_plot = (k_opep, n_opep - k_opep)\n",
    "ind = np.arange(N)  \n",
    "width = 0.35 \n",
    " \n",
    "fig = plt.subplots(figsize =(5, 5))\n",
    "p1 = plt.bar(ind, avan_plot, width)\n",
    "p2 = plt.bar(ind, n_avan_plot, width, bottom = avan_plot)\n",
    " \n",
    "plt.ylabel('Porcentagem em relação ao total do bloco')\n",
    "plt.title('Distribuição de países avançados em relação ao acesso de energia em blocos econômicos')\n",
    "plt.xticks(ind, ('OPEP', 'BRICS'))\n",
    "plt.legend((p1[0], p2[0]), ('Avançados (>94% do acesso a energia)', 'Em desenvolvimento (demais paises)'))\n",
    "plt.show()"
   ]
  },
  {
   "cell_type": "code",
   "execution_count": 813,
   "metadata": {},
   "outputs": [],
   "source": [
    "p_n_avan_opep = 1 - p_avan_opep\n",
    "p_n_avan_brics = 1 - p_avan_brics\n"
   ]
  },
  {
   "cell_type": "code",
   "execution_count": 814,
   "metadata": {},
   "outputs": [
    {
     "name": "stdout",
     "output_type": "stream",
     "text": [
      "0.2\n"
     ]
    }
   ],
   "source": [
    "brics_avan = [float(i) > 94.0 for i in brics2020]\n",
    "l_brics = brics_avan.count(False)\n",
    "print(l_brics/n_brics)"
   ]
  },
  {
   "cell_type": "code",
   "execution_count": 815,
   "metadata": {},
   "outputs": [],
   "source": [
    "opep_avan = [float(i) > 94.0 for i in opep2020]\n",
    "l_opep = opep_avan.count(False)"
   ]
  },
  {
   "cell_type": "code",
   "execution_count": 816,
   "metadata": {},
   "outputs": [
    {
     "name": "stdout",
     "output_type": "stream",
     "text": [
      "0.3888888888888889\n"
     ]
    }
   ],
   "source": [
    "l = l_brics + l_opep\n",
    "p_n_avan = l/(n_brics + n_opep)\n",
    "print(p_n_avan)"
   ]
  },
  {
   "cell_type": "code",
   "execution_count": 817,
   "metadata": {},
   "outputs": [
    {
     "name": "stdout",
     "output_type": "stream",
     "text": [
      "0.8571428571428572\n"
     ]
    }
   ],
   "source": [
    "p_opep_n_avan = p_n_avan_opep * p_opep / p_n_avan\n",
    "print(p_opep_n_avan)"
   ]
  },
  {
   "cell_type": "code",
   "execution_count": 818,
   "metadata": {},
   "outputs": [
    {
     "name": "stdout",
     "output_type": "stream",
     "text": [
      "0.14285714285714282\n"
     ]
    }
   ],
   "source": [
    "p_brics_n_avan = p_n_avan_brics * p_brics / p_n_avan\n",
    "print(p_brics_n_avan)"
   ]
  },
  {
   "cell_type": "code",
   "execution_count": 819,
   "metadata": {},
   "outputs": [
    {
     "name": "stdout",
     "output_type": "stream",
     "text": [
      "Probabilidade de ser avançado sabendo que é da OPEP: 0.5384615384615384\n",
      "Probabilidade de ser avançado sabendo que é do BRICS : 0.8\n",
      "Probabilidade de ser da OPEP sabendo que é avançado: 0.6363636363636362\n",
      "Probabilidade de ser do BRICS sabendo que é avançado: 0.36363636363636365\n",
      "Probabilidade de ser da OPEP sabendo que não é avançado: 0.8571428571428572\n",
      "Probabilidade de ser do BRICS sabendo que não é avançado: 0.14285714285714282\n"
     ]
    }
   ],
   "source": [
    "print(\"Probabilidade de ser avançado sabendo que é da OPEP: \" + str(p_avan_opep))\n",
    "print(\"Probabilidade de ser avançado sabendo que é do BRICS : \" + str(p_avan_brics))\n",
    "print(\"Probabilidade de ser da OPEP sabendo que é avançado: \" + str(p_opep_avan))\n",
    "print(\"Probabilidade de ser do BRICS sabendo que é avançado: \" + str(p_brics_avan))\n",
    "print(\"Probabilidade de ser da OPEP sabendo que não é avançado: \" + str(p_opep_n_avan))\n",
    "print(\"Probabilidade de ser do BRICS sabendo que não é avançado: \" + str(p_brics_n_avan))\n",
    "\n",
    "# print(p_avan_opep, p_opep_avan)\n",
    "# print(p_avan_brics, p_brics_avan)"
   ]
  },
  {
   "cell_type": "markdown",
   "metadata": {},
   "source": [
    "A partir dos dados levantados, foi construído um modelo de classificação de lógica simples (consiste em um if), para determinar de que bloco o país pertence a partir da classificação \"avançado\" e \"não avançado\". A partir disso, foi montado um sistema para validar esse classificador e calcular sua acurácia."
   ]
  },
  {
   "cell_type": "code",
   "execution_count": 820,
   "metadata": {},
   "outputs": [],
   "source": [
    "def classificar_pais(valor):\n",
    "    return 'OPEP'"
   ]
  },
  {
   "cell_type": "code",
   "execution_count": 821,
   "metadata": {},
   "outputs": [
    {
     "name": "stdout",
     "output_type": "stream",
     "text": [
      "[('Brazil', 'BRICS', 100.0), ('China', 'BRICS', 100.0), ('India', 'BRICS', 99.0), ('Russian Federation', 'BRICS', 100.0), ('South Africa', 'BRICS', 84.3855361938477), ('Algeria', 'OPEP', 99.8041305541992), ('Angola', 'OPEP', 46.8906097412109), ('Equatorial Guinea', 'OPEP', 66.7477264404297), ('Gabon', 'OPEP', 91.5715637207031), ('Iran, Islamic Rep.', 'OPEP', 100.0), ('Iraq', 'OPEP', 100.0), ('Kuwait', 'OPEP', 100.0), ('Libya', 'OPEP', 69.7073516845703), ('Nigeria', 'OPEP', 55.4000015258789), ('Congo, Rep.', 'OPEP', 49.5171012878418), ('Saudi Arabia', 'OPEP', 100.0), ('United Arab Emirates', 'OPEP', 100.0), ('Venezuela, RB', 'OPEP', 100.0)]\n"
     ]
    }
   ],
   "source": [
    "lista = []\n",
    "paisesBrics = list(brics.loc[2020].index)\n",
    "for i in range(len(paisesBrics)):\n",
    "    paisesBrics[i] = (paisesBrics[i], 'BRICS', brics2020[i])\n",
    "paisesOpep = list(opep.loc[2020].index)\n",
    "for i in range(len(paisesOpep)):\n",
    "    paisesOpep[i] = (paisesOpep[i], 'OPEP', opep2020[i])\n",
    "\n",
    "lista = paisesBrics + paisesOpep\n",
    "\n",
    "print(lista)"
   ]
  },
  {
   "cell_type": "code",
   "execution_count": 822,
   "metadata": {},
   "outputs": [
    {
     "name": "stdout",
     "output_type": "stream",
     "text": [
      "A acurácia do classificador foi de: 0.738\n"
     ]
    }
   ],
   "source": [
    "import random\n",
    "\n",
    "\n",
    "k = 0\n",
    "n = 1000\n",
    "for i in range(n):\n",
    "    pais = random.choice(lista)\n",
    "    classificao = classificar_pais(pais[2])\n",
    "    if classificao == pais[1]:\n",
    "        k+=1\n",
    "acuracia = k/n\n",
    "\n",
    "print(\"A acurácia do classificador foi de: \" + str(acuracia))"
   ]
  },
  {
   "cell_type": "markdown",
   "metadata": {},
   "source": [
    "Conclusão:    \n",
    "A partir do exposto, é evidente que o classificador apresenta baixa acurácia, seja pela quantidade de informação omitida na análise e também pelo indicador escolhido não representar um bom \"preditor\" para determinar a que bloco um certo país pertence."
   ]
  },
  {
   "cell_type": "markdown",
   "metadata": {},
   "source": [
    "Modificação feitas na entrega anterior:\n",
    "\n",
    "\n",
    "- Mudança no texto:\n",
    "O texto foi revisado e algumas alterações foram realizadas, conforme indicado no feedback."
   ]
  },
  {
   "cell_type": "markdown",
   "metadata": {},
   "source": [
    "## Parte 4: Teste de hipótese\n",
    "#### Enunciado:\n",
    "##### Conduzir testes inferenciais adequados que possam dar base à tomada de decisão\n",
    "\n",
    "Embora seja um clichê pensarmos que alguns grupos de países são mais avançados que outros, isso nem sempre se confirma quando observamos dados. Nesta parte do trabalho, verificaremos se temos dados suficientes para justificar afirmações como esta. Tome por base o modelo estatístico que você encontrou na etapa anterior para as classificações “avançado” ou “atrasado” de países e:\n",
    "\n",
    "1. Para cada bloco, encontre a probabilidade de um país sorteado aleatoriamente naquele bloco ser da categoria “avançado” (isto é: P(avançado|bloco))."
   ]
  },
  {
   "cell_type": "code",
   "execution_count": 823,
   "metadata": {},
   "outputs": [
    {
     "name": "stdout",
     "output_type": "stream",
     "text": [
      "P_avançado|BRICS: 0.8\n",
      "P_avançado|OPEP: 0.5384615384615384\n"
     ]
    }
   ],
   "source": [
    "print(\"P_avançado|BRICS: \" + str(p_avan_brics))\n",
    "\n",
    "print(\"P_avançado|OPEP: \" + str(p_avan_opep))"
   ]
  },
  {
   "cell_type": "markdown",
   "metadata": {},
   "source": [
    "2. Usando bootstrapping, calcule o intervalo de confiança de 90% para P(avançado|bloco) para cada bloco."
   ]
  },
  {
   "cell_type": "code",
   "execution_count": 824,
   "metadata": {},
   "outputs": [],
   "source": [
    "from scipy import stats"
   ]
  },
  {
   "cell_type": "code",
   "execution_count": 825,
   "metadata": {},
   "outputs": [],
   "source": [
    "def calcular_avan_sabendo_que_e_do_bloco(lista):\n",
    "    cont = 0\n",
    "    for valor in lista:\n",
    "        if valor > 94:\n",
    "            cont+=1\n",
    "    return cont/(len(lista))"
   ]
  },
  {
   "cell_type": "code",
   "execution_count": 826,
   "metadata": {},
   "outputs": [],
   "source": [
    "def reamostrar_varias_vezes(amostras, confianca = 0.9,n=100):\n",
    "    # Coloque sua função aqui\n",
    "    prob = []\n",
    "    for i in range(n):\n",
    "        amostras_ = np.random.choice(amostras, size=len(amostras), replace=True)\n",
    "        prob.append(calcular_avan_sabendo_que_e_do_bloco(amostras_))\n",
    "    return np.percentile(prob, ((1-confianca)/2) * 100), np.percentile(prob, (1-(1-confianca)/2) * 100)\n"
   ]
  },
  {
   "cell_type": "code",
   "execution_count": 827,
   "metadata": {},
   "outputs": [
    {
     "name": "stdout",
     "output_type": "stream",
     "text": [
      "(0.4, 1.0)\n"
     ]
    }
   ],
   "source": [
    "boot_brics = reamostrar_varias_vezes(brics2020, confianca=0.9, n=1000)\n",
    "print(boot_brics)\n"
   ]
  },
  {
   "cell_type": "code",
   "execution_count": 828,
   "metadata": {},
   "outputs": [
    {
     "name": "stdout",
     "output_type": "stream",
     "text": [
      "(0.3076923076923077, 0.7692307692307693)\n"
     ]
    }
   ],
   "source": [
    "boot_opep = reamostrar_varias_vezes(opep2020, confianca=0.9, n=1000)\n",
    "print(boot_opep)\n"
   ]
  },
  {
   "cell_type": "code",
   "execution_count": 829,
   "metadata": {},
   "outputs": [
    {
     "name": "stdout",
     "output_type": "stream",
     "text": [
      "(0.4, 0.23076923076923073)\n",
      "(0.19999999999999996, 0.23076923076923084)\n"
     ]
    }
   ],
   "source": [
    "erro_inferior = (abs(-p_avan_brics+boot_brics[0]), abs(-p_avan_opep + boot_opep[0]))\n",
    "print(erro_inferior)\n",
    "erro_superior = (abs(-p_avan_brics+boot_brics[1]), abs(-p_avan_opep + boot_opep[1]))\n",
    "print(erro_superior)"
   ]
  },
  {
   "cell_type": "markdown",
   "metadata": {},
   "source": [
    "3. Mostre, em uma figura, P(avançado|bloco) e os intervalos de confiança calculados. Há sobreposição dos intervalos de confiança? Quais?"
   ]
  },
  {
   "cell_type": "code",
   "execution_count": 830,
   "metadata": {},
   "outputs": [
    {
     "data": {
      "image/png": "[encoded data removed]",
      "text/plain": [
       "<Figure size 640x480 with 1 Axes>"
      ]
     },
     "metadata": {},
     "output_type": "display_data"
    }
   ],
   "source": [
    "\n",
    "# Create lists for the plot\n",
    "blocos = ['BRICS', 'OPEP']\n",
    "x_pos = np.arange(len(blocos))\n",
    "medias = [p_avan_brics, p_avan_opep]\n",
    "error = [erro_inferior, erro_superior]\n",
    "\n",
    "# Build the plot\n",
    "fig, ax = plt.subplots()\n",
    "ax.bar(x_pos, medias, yerr=error, align='center', alpha=0.5, ecolor='black', capsize=10)\n",
    "ax.set_ylabel('Probabilidade')\n",
    "ax.set_xticks(x_pos)\n",
    "ax.set_xticklabels(blocos)\n",
    "ax.set_title('Probabilidade de ter mais 94% de acesso a energia dado que é do bloco')\n",
    "ax.yaxis.grid(True)\n",
    "\n",
    "# Save the figure and show\n",
    "plt.tight_layout()\n",
    "# plt.savefig('bar_plot_with_error_bars.png')\n",
    "plt.show()"
   ]
  },
  {
   "cell_type": "markdown",
   "metadata": {},
   "source": [
    "Há sobreposição sim dos intervalos de confiança, entre 0.4 e 0.7692. "
   ]
  },
  {
   "cell_type": "markdown",
   "metadata": {},
   "source": [
    "4. Levando em consideração os intervalos de confiança, seria seguro dizer que países de um bloco são tipicamente mais “avançados” que os de outro bloco em relação ao indicador que você escolheu?"
   ]
  },
  {
   "cell_type": "markdown",
   "metadata": {},
   "source": [
    "A partir dos da ánalise dos dados, percebe-se que há uma variação superior no grupo do BRICS, reflexo da pequena quantidade de países (e consequentemente da amostra), com uma faixa grande de sobreposição dos intervalos de confiança. Desse modo, apesar do BRICS apresentar valores médios superiores e, aparentemente  pode ser considerado mais \"avançado\" em relação ao indicador escolhido, essa afirmação deve ser feita com ressalvas, já que em a OPEP apresenta uma amostragem maior de dados e boa parte do intervalo de maior probabilidade dos blocos está contido nessa faixa de sobreposição."
   ]
  },
  {
   "cell_type": "code",
   "execution_count": null,
   "metadata": {},
   "outputs": [],
   "source": []
  },
  {
   "cell_type": "markdown",
   "metadata": {},
   "source": [
    "Modificação feitas na entrega anterior:\n",
    "\n",
    "1. Foram calculadas as probabilidades de ser do bloco sabendo que não é avançado, com alteração do classificador implementado."
   ]
  },
  {
   "cell_type": "markdown",
   "metadata": {},
   "source": [
    "#### Entrega:\n",
    "\n",
    "Notebook exportado para PDF que é a continuação dos anteriores, contendo:\n",
    "\n",
    "1. Uma figura mostrando P(avançado|bloco) para cada bloco econômico, incluindo seu intervalo de confiança.\n",
    "2. Discussão: um texto de até 500 palavras explicando como esse intervalo indica se é seguro dizer que os países de um bloco são tipicamente mais “avançados” que os do outro bloco em relação ao indicador que você escolheu\n",
    "3. Uma tabela indicando quais foram as modificações feitas na entrega anterior para contemplar o feedback que foi recebido.   \n",
    "\n",
    "Lembre-se de entregar também seu dataset, isto é, deixe o repositório preparado para ser executado novamente!"
   ]
  },
  {
   "cell_type": "code",
   "execution_count": null,
   "metadata": {},
   "outputs": [],
   "source": []
  }
 ],
 "metadata": {
  "kernelspec": {
   "display_name": "Python 3.10.6 ('envcdados': venv)",
   "language": "python",
   "name": "python3"
  },
  "language_info": {
   "codemirror_mode": {
    "name": "ipython",
    "version": 3
   },
   "file_extension": ".py",
   "mimetype": "text/x-python",
   "name": "python",
   "nbconvert_exporter": "python",
   "pygments_lexer": "ipython3",
   "version": "3.10.6"
  },
  "orig_nbformat": 4,
  "vscode": {
   "interpreter": {
    "hash": "0f9d44566c40e9c024c79fcfbceba9f070bbe9881449b8d045e14106d2e915cd"
   }
  }
 },
 "nbformat": 4,
 "nbformat_minor": 2
}
